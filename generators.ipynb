{
  "nbformat": 4,
  "nbformat_minor": 0,
  "metadata": {
    "colab": {
      "name": "generators.ipynb",
      "provenance": [],
      "authorship_tag": "ABX9TyNaCx6GWNWovXepqAFZ5s2n",
      "include_colab_link": true
    },
    "kernelspec": {
      "name": "python3",
      "display_name": "Python 3"
    }
  },
  "cells": [
    {
      "cell_type": "markdown",
      "metadata": {
        "id": "view-in-github",
        "colab_type": "text"
      },
      "source": [
        "<a href=\"https://colab.research.google.com/github/kavyajeetbora/parrallel-computing-with-dask-datacamp/blob/main/generators.ipynb\" target=\"_parent\"><img src=\"https://colab.research.google.com/assets/colab-badge.svg\" alt=\"Open In Colab\"/></a>"
      ]
    },
    {
      "cell_type": "code",
      "metadata": {
        "id": "mMrxyDXjA2_N"
      },
      "source": [
        "import pandas as pd\r\n",
        "import numpy as np\r\n",
        "from google.colab import files\r\n",
        "from tqdm import tqdm\r\n",
        "import requests "
      ],
      "execution_count": 2,
      "outputs": []
    },
    {
      "cell_type": "code",
      "metadata": {
        "colab": {
          "base_uri": "https://localhost:8080/",
          "height": 35
        },
        "id": "jGcPmtJLA8Jq",
        "outputId": "9d443513-96fb-4527-be3f-b95b7077a7ad"
      },
      "source": [
        "year = 2013\r\n",
        "month = 1\r\n",
        "month = \"0\"+str(month) if month < 10 else month\r\n",
        "file_location = \"https://s3.amazonaws.com/nyc-tlc/trip+data/yellow_tripdata_{:d}-{:s}.csv\".format(year, month)\r\n",
        "file_location"
      ],
      "execution_count": 3,
      "outputs": [
        {
          "output_type": "execute_result",
          "data": {
            "application/vnd.google.colaboratory.intrinsic+json": {
              "type": "string"
            },
            "text/plain": [
              "'https://s3.amazonaws.com/nyc-tlc/trip+data/yellow_tripdata_2013-01.csv'"
            ]
          },
          "metadata": {
            "tags": []
          },
          "execution_count": 3
        }
      ]
    },
    {
      "cell_type": "code",
      "metadata": {
        "colab": {
          "base_uri": "https://localhost:8080/"
        },
        "id": "Q7PkUWU9FMEq",
        "outputId": "c10e4eb0-80d3-473b-d7f4-60f0fdb1996e"
      },
      "source": [
        "%%time\r\n",
        "for i in tqdm(range(1,13),unit=\"csv_file\"):\r\n",
        "    month = \"0\"+str(i) if i < 10 else str(i)\r\n",
        "    file_location = \"https://s3.amazonaws.com/nyc-tlc/trip+data/yellow_tripdata_{:d}-{:s}.csv\".format(2013, month)\r\n",
        "    # get the response from the link\r\n",
        "    req = requests.get(file_location)\r\n",
        "\r\n",
        "    output_file_name = \"yellow_tripdata_{:d}-{:s}.csv\".format(2013, month)\r\n",
        "    # save the reponse content as csv file\r\n",
        "    with open(output_file_name, \"wb\") as csv_file:\r\n",
        "        csv_file.write(req.content)\r\n",
        "    del req"
      ],
      "execution_count": 4,
      "outputs": [
        {
          "output_type": "stream",
          "text": [
            "100%|██████████| 12/12 [11:41<00:00, 58.45s/csv_file]\n"
          ],
          "name": "stderr"
        },
        {
          "output_type": "stream",
          "text": [
            "CPU times: user 1min 42s, sys: 1min 37s, total: 3min 19s\n",
            "Wall time: 11min 43s\n"
          ],
          "name": "stdout"
        }
      ]
    }
  ]
}