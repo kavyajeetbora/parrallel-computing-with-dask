{
  "nbformat": 4,
  "nbformat_minor": 0,
  "metadata": {
    "colab": {
      "name": "1. working_with_big_data.ipynb",
      "provenance": [],
      "collapsed_sections": [],
      "mount_file_id": "1ekFYO47EMnFftXeX9QhwQxSV8l14JBTF",
      "authorship_tag": "ABX9TyNVXwgQywog1GoyDwXDEN/Y",
      "include_colab_link": true
    },
    "kernelspec": {
      "name": "python3",
      "display_name": "Python 3"
    }
  },
  "cells": [
    {
      "cell_type": "markdown",
      "metadata": {
        "id": "view-in-github",
        "colab_type": "text"
      },
      "source": [
        "<a href=\"https://colab.research.google.com/github/kavyajeetbora/parrallel-computing-with-dask-datacamp/blob/main/part-1/working_with_big_data.ipynb\" target=\"_parent\"><img src=\"https://colab.research.google.com/assets/colab-badge.svg\" alt=\"Open In Colab\"/></a>"
      ]
    },
    {
      "cell_type": "code",
      "metadata": {
        "id": "A3NzZ5TNsQ4h"
      },
      "source": [
        "import pandas as pd\r\n",
        "import numpy as np\r\n",
        "import psutil, os\r\n",
        "from tqdm import tqdm\r\n",
        "import seaborn as sns\r\n",
        "import matplotlib.pyplot as plt\r\n",
        "from zipfile import ZipFile"
      ],
      "execution_count": 76,
      "outputs": []
    },
    {
      "cell_type": "markdown",
      "metadata": {
        "id": "f1t6XCqhtV--"
      },
      "source": [
        "## 1. How big is dataframe"
      ]
    },
    {
      "cell_type": "code",
      "metadata": {
        "colab": {
          "base_uri": "https://localhost:8080/",
          "height": 299
        },
        "id": "pNeCEY0NtLrf",
        "outputId": "49aa9b0f-0d39-48fc-ee0f-1c46955bb3a6"
      },
      "source": [
        "file = \"/content/drive/MyDrive/Colab Notebooks/Data Science/Python Libraries/Dask/datacamp/data/dmi_climate_data.csv\"\r\n",
        "df = pd.read_csv(file)\r\n",
        "df.head()"
      ],
      "execution_count": 47,
      "outputs": [
        {
          "output_type": "execute_result",
          "data": {
            "text/html": [
              "<div>\n",
              "<style scoped>\n",
              "    .dataframe tbody tr th:only-of-type {\n",
              "        vertical-align: middle;\n",
              "    }\n",
              "\n",
              "    .dataframe tbody tr th {\n",
              "        vertical-align: top;\n",
              "    }\n",
              "\n",
              "    .dataframe thead th {\n",
              "        text-align: right;\n",
              "    }\n",
              "</style>\n",
              "<table border=\"1\" class=\"dataframe\">\n",
              "  <thead>\n",
              "    <tr style=\"text-align: right;\">\n",
              "      <th></th>\n",
              "      <th>time_observed</th>\n",
              "      <th>index</th>\n",
              "      <th>wind_speed</th>\n",
              "      <th>temp_dew</th>\n",
              "      <th>pressure</th>\n",
              "      <th>wind_dir</th>\n",
              "      <th>temp_dry</th>\n",
              "      <th>pressure_at_sea</th>\n",
              "      <th>temp_grass</th>\n",
              "      <th>wind_max</th>\n",
              "      <th>sun_last10min_glob</th>\n",
              "      <th>precip_past10min</th>\n",
              "      <th>radia_glob</th>\n",
              "      <th>temp_soil</th>\n",
              "      <th>leav_hum_dur_past10min</th>\n",
              "      <th>humidity</th>\n",
              "      <th>precip_dur_past10min</th>\n",
              "      <th>cloud_cover</th>\n",
              "      <th>visibility</th>\n",
              "    </tr>\n",
              "  </thead>\n",
              "  <tbody>\n",
              "    <tr>\n",
              "      <th>0</th>\n",
              "      <td>2020-11-15 23:50:00</td>\n",
              "      <td>0.0</td>\n",
              "      <td>4.6</td>\n",
              "      <td>8.5</td>\n",
              "      <td>996.6</td>\n",
              "      <td>155.0</td>\n",
              "      <td>11.2</td>\n",
              "      <td>1001.5</td>\n",
              "      <td>10.4</td>\n",
              "      <td>9.3</td>\n",
              "      <td>0.0</td>\n",
              "      <td>NaN</td>\n",
              "      <td>0.0</td>\n",
              "      <td>9.5</td>\n",
              "      <td>0.0</td>\n",
              "      <td>NaN</td>\n",
              "      <td>0.0</td>\n",
              "      <td>90.0</td>\n",
              "      <td>45000.0</td>\n",
              "    </tr>\n",
              "    <tr>\n",
              "      <th>1</th>\n",
              "      <td>2020-11-16 00:00:00</td>\n",
              "      <td>1.0</td>\n",
              "      <td>4.2</td>\n",
              "      <td>8.6</td>\n",
              "      <td>996.5</td>\n",
              "      <td>158.0</td>\n",
              "      <td>11.3</td>\n",
              "      <td>1001.4</td>\n",
              "      <td>10.5</td>\n",
              "      <td>8.4</td>\n",
              "      <td>0.0</td>\n",
              "      <td>0.0</td>\n",
              "      <td>0.0</td>\n",
              "      <td>9.5</td>\n",
              "      <td>0.0</td>\n",
              "      <td>83.0</td>\n",
              "      <td>0.0</td>\n",
              "      <td>90.0</td>\n",
              "      <td>45000.0</td>\n",
              "    </tr>\n",
              "    <tr>\n",
              "      <th>2</th>\n",
              "      <td>2020-11-16 00:10:00</td>\n",
              "      <td>2.0</td>\n",
              "      <td>4.0</td>\n",
              "      <td>8.7</td>\n",
              "      <td>996.6</td>\n",
              "      <td>159.0</td>\n",
              "      <td>11.3</td>\n",
              "      <td>1001.5</td>\n",
              "      <td>10.4</td>\n",
              "      <td>7.4</td>\n",
              "      <td>0.0</td>\n",
              "      <td>0.0</td>\n",
              "      <td>0.0</td>\n",
              "      <td>9.4</td>\n",
              "      <td>0.0</td>\n",
              "      <td>84.0</td>\n",
              "      <td>0.0</td>\n",
              "      <td>90.0</td>\n",
              "      <td>35000.0</td>\n",
              "    </tr>\n",
              "    <tr>\n",
              "      <th>3</th>\n",
              "      <td>2020-11-16 00:20:00</td>\n",
              "      <td>3.0</td>\n",
              "      <td>3.9</td>\n",
              "      <td>8.8</td>\n",
              "      <td>996.6</td>\n",
              "      <td>161.0</td>\n",
              "      <td>11.2</td>\n",
              "      <td>1001.5</td>\n",
              "      <td>10.4</td>\n",
              "      <td>6.8</td>\n",
              "      <td>0.0</td>\n",
              "      <td>0.0</td>\n",
              "      <td>0.0</td>\n",
              "      <td>9.4</td>\n",
              "      <td>0.0</td>\n",
              "      <td>85.0</td>\n",
              "      <td>0.0</td>\n",
              "      <td>90.0</td>\n",
              "      <td>40000.0</td>\n",
              "    </tr>\n",
              "    <tr>\n",
              "      <th>4</th>\n",
              "      <td>2020-11-16 00:30:00</td>\n",
              "      <td>4.0</td>\n",
              "      <td>3.8</td>\n",
              "      <td>8.9</td>\n",
              "      <td>996.6</td>\n",
              "      <td>172.0</td>\n",
              "      <td>11.2</td>\n",
              "      <td>1001.6</td>\n",
              "      <td>10.3</td>\n",
              "      <td>9.6</td>\n",
              "      <td>0.0</td>\n",
              "      <td>0.0</td>\n",
              "      <td>0.0</td>\n",
              "      <td>9.4</td>\n",
              "      <td>7.0</td>\n",
              "      <td>86.0</td>\n",
              "      <td>0.0</td>\n",
              "      <td>90.0</td>\n",
              "      <td>25000.0</td>\n",
              "    </tr>\n",
              "  </tbody>\n",
              "</table>\n",
              "</div>"
            ],
            "text/plain": [
              "         time_observed  index  ...  cloud_cover  visibility\n",
              "0  2020-11-15 23:50:00    0.0  ...         90.0     45000.0\n",
              "1  2020-11-16 00:00:00    1.0  ...         90.0     45000.0\n",
              "2  2020-11-16 00:10:00    2.0  ...         90.0     35000.0\n",
              "3  2020-11-16 00:20:00    3.0  ...         90.0     40000.0\n",
              "4  2020-11-16 00:30:00    4.0  ...         90.0     25000.0\n",
              "\n",
              "[5 rows x 19 columns]"
            ]
          },
          "metadata": {
            "tags": []
          },
          "execution_count": 47
        }
      ]
    },
    {
      "cell_type": "code",
      "metadata": {
        "colab": {
          "base_uri": "https://localhost:8080/"
        },
        "id": "LZNQUeTltb4B",
        "outputId": "36a7b011-1e19-4033-8629-403017e7889c"
      },
      "source": [
        "df.memory_usage()/1024 ## memory usage in KB"
      ],
      "execution_count": 48,
      "outputs": [
        {
          "output_type": "execute_result",
          "data": {
            "text/plain": [
              "Index                       0.125000\n",
              "time_observed             104.015625\n",
              "index                     104.015625\n",
              "wind_speed                104.015625\n",
              "temp_dew                  104.015625\n",
              "pressure                  104.015625\n",
              "wind_dir                  104.015625\n",
              "temp_dry                  104.015625\n",
              "pressure_at_sea           104.015625\n",
              "temp_grass                104.015625\n",
              "wind_max                  104.015625\n",
              "sun_last10min_glob        104.015625\n",
              "precip_past10min          104.015625\n",
              "radia_glob                104.015625\n",
              "temp_soil                 104.015625\n",
              "leav_hum_dur_past10min    104.015625\n",
              "humidity                  104.015625\n",
              "precip_dur_past10min      104.015625\n",
              "cloud_cover               104.015625\n",
              "visibility                104.015625\n",
              "dtype: float64"
            ]
          },
          "metadata": {
            "tags": []
          },
          "execution_count": 48
        }
      ]
    },
    {
      "cell_type": "code",
      "metadata": {
        "colab": {
          "base_uri": "https://localhost:8080/"
        },
        "id": "ag43CuBdtgdG",
        "outputId": "e60e022d-6712-48dc-c538-567d5375d2e6"
      },
      "source": [
        "df.info()"
      ],
      "execution_count": 49,
      "outputs": [
        {
          "output_type": "stream",
          "text": [
            "<class 'pandas.core.frame.DataFrame'>\n",
            "RangeIndex: 13314 entries, 0 to 13313\n",
            "Data columns (total 19 columns):\n",
            " #   Column                  Non-Null Count  Dtype  \n",
            "---  ------                  --------------  -----  \n",
            " 0   time_observed           13314 non-null  object \n",
            " 1   index                   13314 non-null  float64\n",
            " 2   wind_speed              13313 non-null  float64\n",
            " 3   temp_dew                13313 non-null  float64\n",
            " 4   pressure                13313 non-null  float64\n",
            " 5   wind_dir                13313 non-null  float64\n",
            " 6   temp_dry                13313 non-null  float64\n",
            " 7   pressure_at_sea         13313 non-null  float64\n",
            " 8   temp_grass              13312 non-null  float64\n",
            " 9   wind_max                13312 non-null  float64\n",
            " 10  sun_last10min_glob      13312 non-null  float64\n",
            " 11  precip_past10min        13312 non-null  float64\n",
            " 12  radia_glob              13312 non-null  float64\n",
            " 13  temp_soil               13312 non-null  float64\n",
            " 14  leav_hum_dur_past10min  13312 non-null  float64\n",
            " 15  humidity                13311 non-null  float64\n",
            " 16  precip_dur_past10min    13311 non-null  float64\n",
            " 17  cloud_cover             13306 non-null  float64\n",
            " 18  visibility              13298 non-null  float64\n",
            "dtypes: float64(18), object(1)\n",
            "memory usage: 1.9+ MB\n"
          ],
          "name": "stdout"
        }
      ]
    },
    {
      "cell_type": "markdown",
      "metadata": {
        "id": "FuaJfQEjt-Zb"
      },
      "source": [
        "## 2. Memory footprint\r\n",
        "\r\n",
        "Many NumPy transformations, while fast, use one or more temporary arrays. Therefore, those transformations require more storage than the original array required.\r\n",
        "\r\n",
        "An array of temperature values in Celsius is provided for you as celsius. Your job is to monitor memory consumption while applying NumPy vectorized operations.\r\n",
        "\r\n"
      ]
    },
    {
      "cell_type": "code",
      "metadata": {
        "id": "Zysbe21yuWkv"
      },
      "source": [
        "def memory_footprint():\r\n",
        "    '''Returns memory (in MB) being used by Python process'''\r\n",
        "    mem = psutil.Process(os.getpid()).memory_info().rss\r\n",
        "    return (mem / 1024 ** 2)"
      ],
      "execution_count": 50,
      "outputs": []
    },
    {
      "cell_type": "code",
      "metadata": {
        "colab": {
          "base_uri": "https://localhost:8080/"
        },
        "id": "x9mCcyMqvRB1",
        "outputId": "b87677e5-1483-4d60-805a-73ed2fb2bb55"
      },
      "source": [
        "before = memory_footprint()\r\n",
        "N = (1024**2) // 8\r\n",
        "x = np.random.randn(100*N)\r\n",
        "print(x.nbytes/(1024**2),\"MB\")\r\n",
        "after = memory_footprint()\r\n",
        "print(\"Memory before: {:.2f} MB\".format(before))\r\n",
        "print(\"Memory usage: {:.2f} MB\".format(after-before))"
      ],
      "execution_count": 51,
      "outputs": [
        {
          "output_type": "stream",
          "text": [
            "100.0 MB\n",
            "Memory before: 2768.37 MB\n",
            "Memory usage: 0.00 MB\n"
          ],
          "name": "stdout"
        }
      ]
    },
    {
      "cell_type": "code",
      "metadata": {
        "colab": {
          "base_uri": "https://localhost:8080/"
        },
        "id": "A5dV-Ubl0NHD",
        "outputId": "1194fcc8-74cb-450c-f3fb-7d04fcf123eb"
      },
      "source": [
        "before = memory_footprint()\r\n",
        "x**2 ## computes but doesnot store it in a variable"
      ],
      "execution_count": 52,
      "outputs": [
        {
          "output_type": "execute_result",
          "data": {
            "text/plain": [
              "array([0.13745627, 1.2514117 , 0.80625535, ..., 0.29581557, 0.81380228,\n",
              "       0.94008321])"
            ]
          },
          "metadata": {
            "tags": []
          },
          "execution_count": 52
        }
      ]
    },
    {
      "cell_type": "code",
      "metadata": {
        "colab": {
          "base_uri": "https://localhost:8080/"
        },
        "id": "AjlZs5nO0RRh",
        "outputId": "9b440be5-9299-4f68-e96c-a22cd9ff95f5"
      },
      "source": [
        "after = memory_footprint()\r\n",
        "print(\"Extra memory obtained: {:.2f} MB\".format(after-before))"
      ],
      "execution_count": 53,
      "outputs": [
        {
          "output_type": "stream",
          "text": [
            "Extra memory obtained: 0.00 MB\n"
          ],
          "name": "stdout"
        }
      ]
    },
    {
      "cell_type": "code",
      "metadata": {
        "colab": {
          "base_uri": "https://localhost:8080/"
        },
        "id": "8VXsLaKy0rpl",
        "outputId": "eee1a687-146a-4710-90ef-4ee7cba1a7c3"
      },
      "source": [
        "x.nbytes/(1024**2) ## in MB"
      ],
      "execution_count": 54,
      "outputs": [
        {
          "output_type": "execute_result",
          "data": {
            "text/plain": [
              "100.0"
            ]
          },
          "metadata": {
            "tags": []
          },
          "execution_count": 54
        }
      ]
    },
    {
      "cell_type": "markdown",
      "metadata": {
        "id": "K9WVj14B01EC"
      },
      "source": [
        "We can also see the memory usage by converting it to a dataframe:"
      ]
    },
    {
      "cell_type": "code",
      "metadata": {
        "id": "umNf1RNe0u-3"
      },
      "source": [
        "df = pd.DataFrame(x)"
      ],
      "execution_count": 55,
      "outputs": []
    },
    {
      "cell_type": "code",
      "metadata": {
        "colab": {
          "base_uri": "https://localhost:8080/"
        },
        "id": "v6z2F7qB05JY",
        "outputId": "f772969f-48ec-4120-f9e4-9a1c9488ed37"
      },
      "source": [
        "df.memory_usage(index=False) // (1024**2) ## memory footprint in MB"
      ],
      "execution_count": 56,
      "outputs": [
        {
          "output_type": "execute_result",
          "data": {
            "text/plain": [
              "0    100\n",
              "dtype: int64"
            ]
          },
          "metadata": {
            "tags": []
          },
          "execution_count": 56
        }
      ]
    },
    {
      "cell_type": "markdown",
      "metadata": {
        "id": "UzRkLtT40br-"
      },
      "source": [
        "We see there is extra memory acquired, even if the variable was not assigned"
      ]
    },
    {
      "cell_type": "markdown",
      "metadata": {
        "id": "_bZ6TLdj1Sxg"
      },
      "source": [
        "### Exercise on Numpy Transformation\r\n",
        "\r\n",
        "Seeing how much extra memory is required for transforming a numpy array:"
      ]
    },
    {
      "cell_type": "code",
      "metadata": {
        "colab": {
          "base_uri": "https://localhost:8080/"
        },
        "id": "qfM4XztH1R8K",
        "outputId": "bc554f11-41f9-4c00-9e69-86576746da43"
      },
      "source": [
        "file = \"/content/drive/MyDrive/Colab Notebooks/Data Science/Python Libraries/Dask/datacamp/data/dmi_climate_data.csv\"\r\n",
        "celsius = pd.read_csv(file)[\"temp_dry\"]\r\n",
        "print(celsius.shape)\r\n",
        "celsius.head()"
      ],
      "execution_count": 57,
      "outputs": [
        {
          "output_type": "stream",
          "text": [
            "(13314,)\n"
          ],
          "name": "stdout"
        },
        {
          "output_type": "execute_result",
          "data": {
            "text/plain": [
              "0    11.2\n",
              "1    11.3\n",
              "2    11.3\n",
              "3    11.2\n",
              "4    11.2\n",
              "Name: temp_dry, dtype: float64"
            ]
          },
          "metadata": {
            "tags": []
          },
          "execution_count": 57
        }
      ]
    },
    {
      "cell_type": "code",
      "metadata": {
        "colab": {
          "base_uri": "https://localhost:8080/"
        },
        "id": "cs_yJSWati7V",
        "outputId": "472200d6-037b-4cc3-e9a3-7812f9357317"
      },
      "source": [
        "before = memory_footprint()\r\n",
        "fahrenheit = celsius*9/5 + 32 ## numpy transformation\r\n",
        "after = memory_footprint()\r\n",
        "\r\n",
        "print(\"memory usage before: {:.2f} MB\".format(before))\r\n",
        "print(\"The memory usage by the new array is {:.2f} MB\".format(fahrenheit.nbytes/(1024**2)))\r\n",
        "print(\"The memory usage required for processing the changes: {:.2f} MB\".format(after))"
      ],
      "execution_count": 58,
      "outputs": [
        {
          "output_type": "stream",
          "text": [
            "memory usage before: 2768.82 MB\n",
            "The memory usage by the new array is 0.10 MB\n",
            "The memory usage required for processing the changes: 2768.82 MB\n"
          ],
          "name": "stdout"
        }
      ]
    },
    {
      "cell_type": "markdown",
      "metadata": {
        "id": "2949ewWT4Dxo"
      },
      "source": [
        "## 3. Thinking about data in chunks\r\n",
        "\r\n",
        "We've seen that available memory & storage restricts datasets that can be analyzed. A common strategy is to subdivide datasets into smaller parts / chunks"
      ]
    },
    {
      "cell_type": "code",
      "metadata": {
        "colab": {
          "base_uri": "https://localhost:8080/"
        },
        "id": "YcQOMTos15_8",
        "outputId": "388c1177-fa76-4d9a-cd0d-6e5879ddddd3"
      },
      "source": [
        "!wget https://s3.amazonaws.com/nyc-tlc/trip+data/yellow_tripdata_2013-01.csv"
      ],
      "execution_count": 59,
      "outputs": [
        {
          "output_type": "stream",
          "text": [
            "--2021-03-09 11:03:45--  https://s3.amazonaws.com/nyc-tlc/trip+data/yellow_tripdata_2013-01.csv\n",
            "Resolving s3.amazonaws.com (s3.amazonaws.com)... 52.216.165.45\n",
            "Connecting to s3.amazonaws.com (s3.amazonaws.com)|52.216.165.45|:443... connected.\n",
            "HTTP request sent, awaiting response... 200 OK\n",
            "Length: 2472351469 (2.3G) [application/octet-stream]\n",
            "Saving to: ‘yellow_tripdata_2013-01.csv.1’\n",
            "\n",
            "yellow_tripdata_201 100%[===================>]   2.30G  34.7MB/s    in 74s     \n",
            "\n",
            "2021-03-09 11:05:00 (32.0 MB/s) - ‘yellow_tripdata_2013-01.csv.1’ saved [2472351469/2472351469]\n",
            "\n"
          ],
          "name": "stdout"
        }
      ]
    },
    {
      "cell_type": "code",
      "metadata": {
        "colab": {
          "base_uri": "https://localhost:8080/"
        },
        "id": "QHmHbnd-5kkU",
        "outputId": "2ed533a2-7b2e-4d8f-98ed-cbceccf54533"
      },
      "source": [
        "%%time\r\n",
        "filename = \"/content/yellow_tripdata_2013-01.csv\"\r\n",
        "for chunk in pd.read_csv(filename, chunksize=50000):\r\n",
        "    print(\"Type: %s | shape %s\" %(type(chunk), chunk.shape))"
      ],
      "execution_count": 60,
      "outputs": [
        {
          "output_type": "stream",
          "text": [
            "Type: <class 'pandas.core.frame.DataFrame'> | shape (50000, 18)\n",
            "Type: <class 'pandas.core.frame.DataFrame'> | shape (50000, 18)\n",
            "Type: <class 'pandas.core.frame.DataFrame'> | shape (50000, 18)\n",
            "Type: <class 'pandas.core.frame.DataFrame'> | shape (50000, 18)\n",
            "Type: <class 'pandas.core.frame.DataFrame'> | shape (50000, 18)\n",
            "Type: <class 'pandas.core.frame.DataFrame'> | shape (50000, 18)\n",
            "Type: <class 'pandas.core.frame.DataFrame'> | shape (50000, 18)\n",
            "Type: <class 'pandas.core.frame.DataFrame'> | shape (50000, 18)\n",
            "Type: <class 'pandas.core.frame.DataFrame'> | shape (50000, 18)\n",
            "Type: <class 'pandas.core.frame.DataFrame'> | shape (50000, 18)\n",
            "Type: <class 'pandas.core.frame.DataFrame'> | shape (50000, 18)\n",
            "Type: <class 'pandas.core.frame.DataFrame'> | shape (50000, 18)\n",
            "Type: <class 'pandas.core.frame.DataFrame'> | shape (50000, 18)\n",
            "Type: <class 'pandas.core.frame.DataFrame'> | shape (50000, 18)\n",
            "Type: <class 'pandas.core.frame.DataFrame'> | shape (50000, 18)\n",
            "Type: <class 'pandas.core.frame.DataFrame'> | shape (50000, 18)\n",
            "Type: <class 'pandas.core.frame.DataFrame'> | shape (50000, 18)\n",
            "Type: <class 'pandas.core.frame.DataFrame'> | shape (50000, 18)\n",
            "Type: <class 'pandas.core.frame.DataFrame'> | shape (50000, 18)\n",
            "Type: <class 'pandas.core.frame.DataFrame'> | shape (50000, 18)\n",
            "Type: <class 'pandas.core.frame.DataFrame'> | shape (50000, 18)\n",
            "Type: <class 'pandas.core.frame.DataFrame'> | shape (50000, 18)\n",
            "Type: <class 'pandas.core.frame.DataFrame'> | shape (50000, 18)\n",
            "Type: <class 'pandas.core.frame.DataFrame'> | shape (50000, 18)\n",
            "Type: <class 'pandas.core.frame.DataFrame'> | shape (50000, 18)\n",
            "Type: <class 'pandas.core.frame.DataFrame'> | shape (50000, 18)\n",
            "Type: <class 'pandas.core.frame.DataFrame'> | shape (50000, 18)\n",
            "Type: <class 'pandas.core.frame.DataFrame'> | shape (50000, 18)\n",
            "Type: <class 'pandas.core.frame.DataFrame'> | shape (50000, 18)\n",
            "Type: <class 'pandas.core.frame.DataFrame'> | shape (50000, 18)\n",
            "Type: <class 'pandas.core.frame.DataFrame'> | shape (50000, 18)\n",
            "Type: <class 'pandas.core.frame.DataFrame'> | shape (50000, 18)\n",
            "Type: <class 'pandas.core.frame.DataFrame'> | shape (50000, 18)\n",
            "Type: <class 'pandas.core.frame.DataFrame'> | shape (50000, 18)\n",
            "Type: <class 'pandas.core.frame.DataFrame'> | shape (50000, 18)\n",
            "Type: <class 'pandas.core.frame.DataFrame'> | shape (50000, 18)\n",
            "Type: <class 'pandas.core.frame.DataFrame'> | shape (50000, 18)\n",
            "Type: <class 'pandas.core.frame.DataFrame'> | shape (50000, 18)\n",
            "Type: <class 'pandas.core.frame.DataFrame'> | shape (50000, 18)\n",
            "Type: <class 'pandas.core.frame.DataFrame'> | shape (50000, 18)\n",
            "Type: <class 'pandas.core.frame.DataFrame'> | shape (50000, 18)\n",
            "Type: <class 'pandas.core.frame.DataFrame'> | shape (50000, 18)\n",
            "Type: <class 'pandas.core.frame.DataFrame'> | shape (50000, 18)\n",
            "Type: <class 'pandas.core.frame.DataFrame'> | shape (50000, 18)\n",
            "Type: <class 'pandas.core.frame.DataFrame'> | shape (50000, 18)\n",
            "Type: <class 'pandas.core.frame.DataFrame'> | shape (50000, 18)\n",
            "Type: <class 'pandas.core.frame.DataFrame'> | shape (50000, 18)\n",
            "Type: <class 'pandas.core.frame.DataFrame'> | shape (50000, 18)\n",
            "Type: <class 'pandas.core.frame.DataFrame'> | shape (50000, 18)\n",
            "Type: <class 'pandas.core.frame.DataFrame'> | shape (50000, 18)\n",
            "Type: <class 'pandas.core.frame.DataFrame'> | shape (50000, 18)\n",
            "Type: <class 'pandas.core.frame.DataFrame'> | shape (50000, 18)\n",
            "Type: <class 'pandas.core.frame.DataFrame'> | shape (50000, 18)\n",
            "Type: <class 'pandas.core.frame.DataFrame'> | shape (50000, 18)\n",
            "Type: <class 'pandas.core.frame.DataFrame'> | shape (50000, 18)\n",
            "Type: <class 'pandas.core.frame.DataFrame'> | shape (50000, 18)\n",
            "Type: <class 'pandas.core.frame.DataFrame'> | shape (50000, 18)\n",
            "Type: <class 'pandas.core.frame.DataFrame'> | shape (50000, 18)\n",
            "Type: <class 'pandas.core.frame.DataFrame'> | shape (50000, 18)\n",
            "Type: <class 'pandas.core.frame.DataFrame'> | shape (50000, 18)\n",
            "Type: <class 'pandas.core.frame.DataFrame'> | shape (50000, 18)\n",
            "Type: <class 'pandas.core.frame.DataFrame'> | shape (50000, 18)\n",
            "Type: <class 'pandas.core.frame.DataFrame'> | shape (50000, 18)\n",
            "Type: <class 'pandas.core.frame.DataFrame'> | shape (50000, 18)\n",
            "Type: <class 'pandas.core.frame.DataFrame'> | shape (50000, 18)\n",
            "Type: <class 'pandas.core.frame.DataFrame'> | shape (50000, 18)\n",
            "Type: <class 'pandas.core.frame.DataFrame'> | shape (50000, 18)\n",
            "Type: <class 'pandas.core.frame.DataFrame'> | shape (50000, 18)\n",
            "Type: <class 'pandas.core.frame.DataFrame'> | shape (50000, 18)\n",
            "Type: <class 'pandas.core.frame.DataFrame'> | shape (50000, 18)\n",
            "Type: <class 'pandas.core.frame.DataFrame'> | shape (50000, 18)\n",
            "Type: <class 'pandas.core.frame.DataFrame'> | shape (50000, 18)\n",
            "Type: <class 'pandas.core.frame.DataFrame'> | shape (50000, 18)\n",
            "Type: <class 'pandas.core.frame.DataFrame'> | shape (50000, 18)\n",
            "Type: <class 'pandas.core.frame.DataFrame'> | shape (50000, 18)\n",
            "Type: <class 'pandas.core.frame.DataFrame'> | shape (50000, 18)\n",
            "Type: <class 'pandas.core.frame.DataFrame'> | shape (50000, 18)\n",
            "Type: <class 'pandas.core.frame.DataFrame'> | shape (50000, 18)\n",
            "Type: <class 'pandas.core.frame.DataFrame'> | shape (50000, 18)\n",
            "Type: <class 'pandas.core.frame.DataFrame'> | shape (50000, 18)\n",
            "Type: <class 'pandas.core.frame.DataFrame'> | shape (50000, 18)\n",
            "Type: <class 'pandas.core.frame.DataFrame'> | shape (50000, 18)\n",
            "Type: <class 'pandas.core.frame.DataFrame'> | shape (50000, 18)\n",
            "Type: <class 'pandas.core.frame.DataFrame'> | shape (50000, 18)\n",
            "Type: <class 'pandas.core.frame.DataFrame'> | shape (50000, 18)\n",
            "Type: <class 'pandas.core.frame.DataFrame'> | shape (50000, 18)\n",
            "Type: <class 'pandas.core.frame.DataFrame'> | shape (50000, 18)\n",
            "Type: <class 'pandas.core.frame.DataFrame'> | shape (50000, 18)\n",
            "Type: <class 'pandas.core.frame.DataFrame'> | shape (50000, 18)\n",
            "Type: <class 'pandas.core.frame.DataFrame'> | shape (50000, 18)\n",
            "Type: <class 'pandas.core.frame.DataFrame'> | shape (50000, 18)\n",
            "Type: <class 'pandas.core.frame.DataFrame'> | shape (50000, 18)\n",
            "Type: <class 'pandas.core.frame.DataFrame'> | shape (50000, 18)\n",
            "Type: <class 'pandas.core.frame.DataFrame'> | shape (50000, 18)\n",
            "Type: <class 'pandas.core.frame.DataFrame'> | shape (50000, 18)\n",
            "Type: <class 'pandas.core.frame.DataFrame'> | shape (50000, 18)\n",
            "Type: <class 'pandas.core.frame.DataFrame'> | shape (50000, 18)\n",
            "Type: <class 'pandas.core.frame.DataFrame'> | shape (50000, 18)\n",
            "Type: <class 'pandas.core.frame.DataFrame'> | shape (50000, 18)\n",
            "Type: <class 'pandas.core.frame.DataFrame'> | shape (50000, 18)\n",
            "Type: <class 'pandas.core.frame.DataFrame'> | shape (50000, 18)\n",
            "Type: <class 'pandas.core.frame.DataFrame'> | shape (50000, 18)\n",
            "Type: <class 'pandas.core.frame.DataFrame'> | shape (50000, 18)\n",
            "Type: <class 'pandas.core.frame.DataFrame'> | shape (50000, 18)\n",
            "Type: <class 'pandas.core.frame.DataFrame'> | shape (50000, 18)\n",
            "Type: <class 'pandas.core.frame.DataFrame'> | shape (50000, 18)\n",
            "Type: <class 'pandas.core.frame.DataFrame'> | shape (50000, 18)\n",
            "Type: <class 'pandas.core.frame.DataFrame'> | shape (50000, 18)\n",
            "Type: <class 'pandas.core.frame.DataFrame'> | shape (50000, 18)\n",
            "Type: <class 'pandas.core.frame.DataFrame'> | shape (50000, 18)\n",
            "Type: <class 'pandas.core.frame.DataFrame'> | shape (50000, 18)\n",
            "Type: <class 'pandas.core.frame.DataFrame'> | shape (50000, 18)\n",
            "Type: <class 'pandas.core.frame.DataFrame'> | shape (50000, 18)\n",
            "Type: <class 'pandas.core.frame.DataFrame'> | shape (50000, 18)\n",
            "Type: <class 'pandas.core.frame.DataFrame'> | shape (50000, 18)\n",
            "Type: <class 'pandas.core.frame.DataFrame'> | shape (50000, 18)\n",
            "Type: <class 'pandas.core.frame.DataFrame'> | shape (50000, 18)\n",
            "Type: <class 'pandas.core.frame.DataFrame'> | shape (50000, 18)\n",
            "Type: <class 'pandas.core.frame.DataFrame'> | shape (50000, 18)\n",
            "Type: <class 'pandas.core.frame.DataFrame'> | shape (50000, 18)\n",
            "Type: <class 'pandas.core.frame.DataFrame'> | shape (50000, 18)\n",
            "Type: <class 'pandas.core.frame.DataFrame'> | shape (50000, 18)\n",
            "Type: <class 'pandas.core.frame.DataFrame'> | shape (50000, 18)\n",
            "Type: <class 'pandas.core.frame.DataFrame'> | shape (50000, 18)\n",
            "Type: <class 'pandas.core.frame.DataFrame'> | shape (50000, 18)\n",
            "Type: <class 'pandas.core.frame.DataFrame'> | shape (50000, 18)\n",
            "Type: <class 'pandas.core.frame.DataFrame'> | shape (50000, 18)\n",
            "Type: <class 'pandas.core.frame.DataFrame'> | shape (50000, 18)\n",
            "Type: <class 'pandas.core.frame.DataFrame'> | shape (50000, 18)\n",
            "Type: <class 'pandas.core.frame.DataFrame'> | shape (50000, 18)\n",
            "Type: <class 'pandas.core.frame.DataFrame'> | shape (50000, 18)\n",
            "Type: <class 'pandas.core.frame.DataFrame'> | shape (50000, 18)\n",
            "Type: <class 'pandas.core.frame.DataFrame'> | shape (50000, 18)\n",
            "Type: <class 'pandas.core.frame.DataFrame'> | shape (50000, 18)\n",
            "Type: <class 'pandas.core.frame.DataFrame'> | shape (50000, 18)\n",
            "Type: <class 'pandas.core.frame.DataFrame'> | shape (50000, 18)\n",
            "Type: <class 'pandas.core.frame.DataFrame'> | shape (50000, 18)\n",
            "Type: <class 'pandas.core.frame.DataFrame'> | shape (50000, 18)\n",
            "Type: <class 'pandas.core.frame.DataFrame'> | shape (50000, 18)\n",
            "Type: <class 'pandas.core.frame.DataFrame'> | shape (50000, 18)\n",
            "Type: <class 'pandas.core.frame.DataFrame'> | shape (50000, 18)\n",
            "Type: <class 'pandas.core.frame.DataFrame'> | shape (50000, 18)\n",
            "Type: <class 'pandas.core.frame.DataFrame'> | shape (50000, 18)\n",
            "Type: <class 'pandas.core.frame.DataFrame'> | shape (50000, 18)\n",
            "Type: <class 'pandas.core.frame.DataFrame'> | shape (50000, 18)\n",
            "Type: <class 'pandas.core.frame.DataFrame'> | shape (50000, 18)\n",
            "Type: <class 'pandas.core.frame.DataFrame'> | shape (50000, 18)\n",
            "Type: <class 'pandas.core.frame.DataFrame'> | shape (50000, 18)\n",
            "Type: <class 'pandas.core.frame.DataFrame'> | shape (50000, 18)\n",
            "Type: <class 'pandas.core.frame.DataFrame'> | shape (50000, 18)\n",
            "Type: <class 'pandas.core.frame.DataFrame'> | shape (50000, 18)\n",
            "Type: <class 'pandas.core.frame.DataFrame'> | shape (50000, 18)\n",
            "Type: <class 'pandas.core.frame.DataFrame'> | shape (50000, 18)\n",
            "Type: <class 'pandas.core.frame.DataFrame'> | shape (50000, 18)\n",
            "Type: <class 'pandas.core.frame.DataFrame'> | shape (50000, 18)\n",
            "Type: <class 'pandas.core.frame.DataFrame'> | shape (50000, 18)\n",
            "Type: <class 'pandas.core.frame.DataFrame'> | shape (50000, 18)\n",
            "Type: <class 'pandas.core.frame.DataFrame'> | shape (50000, 18)\n",
            "Type: <class 'pandas.core.frame.DataFrame'> | shape (50000, 18)\n",
            "Type: <class 'pandas.core.frame.DataFrame'> | shape (50000, 18)\n",
            "Type: <class 'pandas.core.frame.DataFrame'> | shape (50000, 18)\n",
            "Type: <class 'pandas.core.frame.DataFrame'> | shape (50000, 18)\n",
            "Type: <class 'pandas.core.frame.DataFrame'> | shape (50000, 18)\n",
            "Type: <class 'pandas.core.frame.DataFrame'> | shape (50000, 18)\n",
            "Type: <class 'pandas.core.frame.DataFrame'> | shape (50000, 18)\n",
            "Type: <class 'pandas.core.frame.DataFrame'> | shape (50000, 18)\n",
            "Type: <class 'pandas.core.frame.DataFrame'> | shape (50000, 18)\n",
            "Type: <class 'pandas.core.frame.DataFrame'> | shape (50000, 18)\n",
            "Type: <class 'pandas.core.frame.DataFrame'> | shape (50000, 18)\n",
            "Type: <class 'pandas.core.frame.DataFrame'> | shape (50000, 18)\n",
            "Type: <class 'pandas.core.frame.DataFrame'> | shape (50000, 18)\n",
            "Type: <class 'pandas.core.frame.DataFrame'> | shape (50000, 18)\n",
            "Type: <class 'pandas.core.frame.DataFrame'> | shape (50000, 18)\n",
            "Type: <class 'pandas.core.frame.DataFrame'> | shape (50000, 18)\n",
            "Type: <class 'pandas.core.frame.DataFrame'> | shape (50000, 18)\n",
            "Type: <class 'pandas.core.frame.DataFrame'> | shape (50000, 18)\n",
            "Type: <class 'pandas.core.frame.DataFrame'> | shape (50000, 18)\n",
            "Type: <class 'pandas.core.frame.DataFrame'> | shape (50000, 18)\n",
            "Type: <class 'pandas.core.frame.DataFrame'> | shape (50000, 18)\n",
            "Type: <class 'pandas.core.frame.DataFrame'> | shape (50000, 18)\n",
            "Type: <class 'pandas.core.frame.DataFrame'> | shape (50000, 18)\n",
            "Type: <class 'pandas.core.frame.DataFrame'> | shape (50000, 18)\n",
            "Type: <class 'pandas.core.frame.DataFrame'> | shape (50000, 18)\n",
            "Type: <class 'pandas.core.frame.DataFrame'> | shape (50000, 18)\n",
            "Type: <class 'pandas.core.frame.DataFrame'> | shape (50000, 18)\n",
            "Type: <class 'pandas.core.frame.DataFrame'> | shape (50000, 18)\n",
            "Type: <class 'pandas.core.frame.DataFrame'> | shape (50000, 18)\n",
            "Type: <class 'pandas.core.frame.DataFrame'> | shape (50000, 18)\n",
            "Type: <class 'pandas.core.frame.DataFrame'> | shape (50000, 18)\n",
            "Type: <class 'pandas.core.frame.DataFrame'> | shape (50000, 18)\n",
            "Type: <class 'pandas.core.frame.DataFrame'> | shape (50000, 18)\n",
            "Type: <class 'pandas.core.frame.DataFrame'> | shape (50000, 18)\n",
            "Type: <class 'pandas.core.frame.DataFrame'> | shape (50000, 18)\n",
            "Type: <class 'pandas.core.frame.DataFrame'> | shape (50000, 18)\n",
            "Type: <class 'pandas.core.frame.DataFrame'> | shape (50000, 18)\n",
            "Type: <class 'pandas.core.frame.DataFrame'> | shape (50000, 18)\n",
            "Type: <class 'pandas.core.frame.DataFrame'> | shape (50000, 18)\n",
            "Type: <class 'pandas.core.frame.DataFrame'> | shape (50000, 18)\n",
            "Type: <class 'pandas.core.frame.DataFrame'> | shape (50000, 18)\n",
            "Type: <class 'pandas.core.frame.DataFrame'> | shape (50000, 18)\n",
            "Type: <class 'pandas.core.frame.DataFrame'> | shape (50000, 18)\n",
            "Type: <class 'pandas.core.frame.DataFrame'> | shape (50000, 18)\n",
            "Type: <class 'pandas.core.frame.DataFrame'> | shape (50000, 18)\n",
            "Type: <class 'pandas.core.frame.DataFrame'> | shape (50000, 18)\n",
            "Type: <class 'pandas.core.frame.DataFrame'> | shape (50000, 18)\n",
            "Type: <class 'pandas.core.frame.DataFrame'> | shape (50000, 18)\n",
            "Type: <class 'pandas.core.frame.DataFrame'> | shape (50000, 18)\n",
            "Type: <class 'pandas.core.frame.DataFrame'> | shape (50000, 18)\n",
            "Type: <class 'pandas.core.frame.DataFrame'> | shape (50000, 18)\n",
            "Type: <class 'pandas.core.frame.DataFrame'> | shape (50000, 18)\n",
            "Type: <class 'pandas.core.frame.DataFrame'> | shape (50000, 18)\n",
            "Type: <class 'pandas.core.frame.DataFrame'> | shape (50000, 18)\n",
            "Type: <class 'pandas.core.frame.DataFrame'> | shape (50000, 18)\n",
            "Type: <class 'pandas.core.frame.DataFrame'> | shape (50000, 18)\n",
            "Type: <class 'pandas.core.frame.DataFrame'> | shape (50000, 18)\n",
            "Type: <class 'pandas.core.frame.DataFrame'> | shape (50000, 18)\n",
            "Type: <class 'pandas.core.frame.DataFrame'> | shape (50000, 18)\n",
            "Type: <class 'pandas.core.frame.DataFrame'> | shape (50000, 18)\n",
            "Type: <class 'pandas.core.frame.DataFrame'> | shape (50000, 18)\n",
            "Type: <class 'pandas.core.frame.DataFrame'> | shape (50000, 18)\n",
            "Type: <class 'pandas.core.frame.DataFrame'> | shape (50000, 18)\n",
            "Type: <class 'pandas.core.frame.DataFrame'> | shape (50000, 18)\n",
            "Type: <class 'pandas.core.frame.DataFrame'> | shape (50000, 18)\n",
            "Type: <class 'pandas.core.frame.DataFrame'> | shape (50000, 18)\n",
            "Type: <class 'pandas.core.frame.DataFrame'> | shape (50000, 18)\n",
            "Type: <class 'pandas.core.frame.DataFrame'> | shape (50000, 18)\n",
            "Type: <class 'pandas.core.frame.DataFrame'> | shape (50000, 18)\n",
            "Type: <class 'pandas.core.frame.DataFrame'> | shape (50000, 18)\n",
            "Type: <class 'pandas.core.frame.DataFrame'> | shape (50000, 18)\n",
            "Type: <class 'pandas.core.frame.DataFrame'> | shape (50000, 18)\n",
            "Type: <class 'pandas.core.frame.DataFrame'> | shape (50000, 18)\n",
            "Type: <class 'pandas.core.frame.DataFrame'> | shape (50000, 18)\n",
            "Type: <class 'pandas.core.frame.DataFrame'> | shape (50000, 18)\n",
            "Type: <class 'pandas.core.frame.DataFrame'> | shape (50000, 18)\n",
            "Type: <class 'pandas.core.frame.DataFrame'> | shape (50000, 18)\n",
            "Type: <class 'pandas.core.frame.DataFrame'> | shape (50000, 18)\n",
            "Type: <class 'pandas.core.frame.DataFrame'> | shape (50000, 18)\n",
            "Type: <class 'pandas.core.frame.DataFrame'> | shape (50000, 18)\n",
            "Type: <class 'pandas.core.frame.DataFrame'> | shape (50000, 18)\n",
            "Type: <class 'pandas.core.frame.DataFrame'> | shape (50000, 18)\n",
            "Type: <class 'pandas.core.frame.DataFrame'> | shape (50000, 18)\n",
            "Type: <class 'pandas.core.frame.DataFrame'> | shape (50000, 18)\n",
            "Type: <class 'pandas.core.frame.DataFrame'> | shape (50000, 18)\n",
            "Type: <class 'pandas.core.frame.DataFrame'> | shape (50000, 18)\n",
            "Type: <class 'pandas.core.frame.DataFrame'> | shape (50000, 18)\n",
            "Type: <class 'pandas.core.frame.DataFrame'> | shape (50000, 18)\n",
            "Type: <class 'pandas.core.frame.DataFrame'> | shape (50000, 18)\n",
            "Type: <class 'pandas.core.frame.DataFrame'> | shape (50000, 18)\n",
            "Type: <class 'pandas.core.frame.DataFrame'> | shape (50000, 18)\n",
            "Type: <class 'pandas.core.frame.DataFrame'> | shape (50000, 18)\n",
            "Type: <class 'pandas.core.frame.DataFrame'> | shape (50000, 18)\n",
            "Type: <class 'pandas.core.frame.DataFrame'> | shape (50000, 18)\n",
            "Type: <class 'pandas.core.frame.DataFrame'> | shape (50000, 18)\n",
            "Type: <class 'pandas.core.frame.DataFrame'> | shape (50000, 18)\n",
            "Type: <class 'pandas.core.frame.DataFrame'> | shape (50000, 18)\n",
            "Type: <class 'pandas.core.frame.DataFrame'> | shape (50000, 18)\n",
            "Type: <class 'pandas.core.frame.DataFrame'> | shape (50000, 18)\n",
            "Type: <class 'pandas.core.frame.DataFrame'> | shape (50000, 18)\n",
            "Type: <class 'pandas.core.frame.DataFrame'> | shape (50000, 18)\n",
            "Type: <class 'pandas.core.frame.DataFrame'> | shape (50000, 18)\n",
            "Type: <class 'pandas.core.frame.DataFrame'> | shape (50000, 18)\n",
            "Type: <class 'pandas.core.frame.DataFrame'> | shape (50000, 18)\n",
            "Type: <class 'pandas.core.frame.DataFrame'> | shape (50000, 18)\n",
            "Type: <class 'pandas.core.frame.DataFrame'> | shape (50000, 18)\n",
            "Type: <class 'pandas.core.frame.DataFrame'> | shape (50000, 18)\n",
            "Type: <class 'pandas.core.frame.DataFrame'> | shape (50000, 18)\n",
            "Type: <class 'pandas.core.frame.DataFrame'> | shape (50000, 18)\n",
            "Type: <class 'pandas.core.frame.DataFrame'> | shape (50000, 18)\n",
            "Type: <class 'pandas.core.frame.DataFrame'> | shape (50000, 18)\n",
            "Type: <class 'pandas.core.frame.DataFrame'> | shape (50000, 18)\n",
            "Type: <class 'pandas.core.frame.DataFrame'> | shape (50000, 18)\n",
            "Type: <class 'pandas.core.frame.DataFrame'> | shape (50000, 18)\n",
            "Type: <class 'pandas.core.frame.DataFrame'> | shape (50000, 18)\n",
            "Type: <class 'pandas.core.frame.DataFrame'> | shape (50000, 18)\n",
            "Type: <class 'pandas.core.frame.DataFrame'> | shape (50000, 18)\n",
            "Type: <class 'pandas.core.frame.DataFrame'> | shape (50000, 18)\n",
            "Type: <class 'pandas.core.frame.DataFrame'> | shape (50000, 18)\n",
            "Type: <class 'pandas.core.frame.DataFrame'> | shape (50000, 18)\n",
            "Type: <class 'pandas.core.frame.DataFrame'> | shape (50000, 18)\n",
            "Type: <class 'pandas.core.frame.DataFrame'> | shape (50000, 18)\n",
            "Type: <class 'pandas.core.frame.DataFrame'> | shape (50000, 18)\n",
            "Type: <class 'pandas.core.frame.DataFrame'> | shape (50000, 18)\n",
            "Type: <class 'pandas.core.frame.DataFrame'> | shape (50000, 18)\n",
            "Type: <class 'pandas.core.frame.DataFrame'> | shape (50000, 18)\n",
            "Type: <class 'pandas.core.frame.DataFrame'> | shape (50000, 18)\n",
            "Type: <class 'pandas.core.frame.DataFrame'> | shape (50000, 18)\n",
            "Type: <class 'pandas.core.frame.DataFrame'> | shape (50000, 18)\n",
            "Type: <class 'pandas.core.frame.DataFrame'> | shape (50000, 18)\n",
            "Type: <class 'pandas.core.frame.DataFrame'> | shape (50000, 18)\n",
            "Type: <class 'pandas.core.frame.DataFrame'> | shape (50000, 18)\n",
            "Type: <class 'pandas.core.frame.DataFrame'> | shape (50000, 18)\n",
            "Type: <class 'pandas.core.frame.DataFrame'> | shape (50000, 18)\n",
            "Type: <class 'pandas.core.frame.DataFrame'> | shape (50000, 18)\n",
            "Type: <class 'pandas.core.frame.DataFrame'> | shape (50000, 18)\n",
            "Type: <class 'pandas.core.frame.DataFrame'> | shape (50000, 18)\n",
            "Type: <class 'pandas.core.frame.DataFrame'> | shape (26615, 18)\n",
            "CPU times: user 40.4 s, sys: 1.46 s, total: 41.9 s\n",
            "Wall time: 43.9 s\n"
          ],
          "name": "stdout"
        }
      ]
    },
    {
      "cell_type": "code",
      "metadata": {
        "colab": {
          "base_uri": "https://localhost:8080/"
        },
        "id": "nk-d6yaX6HIg",
        "outputId": "aa3ae90e-6a69-4371-dfdb-938c118242df"
      },
      "source": [
        "chunk.shape"
      ],
      "execution_count": 61,
      "outputs": [
        {
          "output_type": "execute_result",
          "data": {
            "text/plain": [
              "(26615, 18)"
            ]
          },
          "metadata": {
            "tags": []
          },
          "execution_count": 61
        }
      ]
    },
    {
      "cell_type": "code",
      "metadata": {
        "colab": {
          "base_uri": "https://localhost:8080/",
          "height": 299
        },
        "id": "FE9pp_Ga6Jwa",
        "outputId": "d672ce95-4cec-4284-e262-053c1597ede0"
      },
      "source": [
        "chunk.head()"
      ],
      "execution_count": 62,
      "outputs": [
        {
          "output_type": "execute_result",
          "data": {
            "text/html": [
              "<div>\n",
              "<style scoped>\n",
              "    .dataframe tbody tr th:only-of-type {\n",
              "        vertical-align: middle;\n",
              "    }\n",
              "\n",
              "    .dataframe tbody tr th {\n",
              "        vertical-align: top;\n",
              "    }\n",
              "\n",
              "    .dataframe thead th {\n",
              "        text-align: right;\n",
              "    }\n",
              "</style>\n",
              "<table border=\"1\" class=\"dataframe\">\n",
              "  <thead>\n",
              "    <tr style=\"text-align: right;\">\n",
              "      <th></th>\n",
              "      <th>vendor_id</th>\n",
              "      <th>pickup_datetime</th>\n",
              "      <th>dropoff_datetime</th>\n",
              "      <th>passenger_count</th>\n",
              "      <th>trip_distance</th>\n",
              "      <th>pickup_longitude</th>\n",
              "      <th>pickup_latitude</th>\n",
              "      <th>rate_code</th>\n",
              "      <th>store_and_fwd_flag</th>\n",
              "      <th>dropoff_longitude</th>\n",
              "      <th>dropoff_latitude</th>\n",
              "      <th>payment_type</th>\n",
              "      <th>fare_amount</th>\n",
              "      <th>surcharge</th>\n",
              "      <th>mta_tax</th>\n",
              "      <th>tip_amount</th>\n",
              "      <th>tolls_amount</th>\n",
              "      <th>total_amount</th>\n",
              "    </tr>\n",
              "  </thead>\n",
              "  <tbody>\n",
              "    <tr>\n",
              "      <th>14750000</th>\n",
              "      <td>CMT</td>\n",
              "      <td>2013-01-08 06:41:16</td>\n",
              "      <td>2013-01-08 06:48:12</td>\n",
              "      <td>1</td>\n",
              "      <td>2.2</td>\n",
              "      <td>-73.988912</td>\n",
              "      <td>40.748254</td>\n",
              "      <td>1</td>\n",
              "      <td>N</td>\n",
              "      <td>-73.961400</td>\n",
              "      <td>40.767962</td>\n",
              "      <td>CSH</td>\n",
              "      <td>9.0</td>\n",
              "      <td>0.0</td>\n",
              "      <td>0.5</td>\n",
              "      <td>0.0</td>\n",
              "      <td>0.0</td>\n",
              "      <td>9.5</td>\n",
              "    </tr>\n",
              "    <tr>\n",
              "      <th>14750001</th>\n",
              "      <td>CMT</td>\n",
              "      <td>2013-01-07 16:11:38</td>\n",
              "      <td>2013-01-07 16:29:28</td>\n",
              "      <td>1</td>\n",
              "      <td>2.7</td>\n",
              "      <td>-73.957860</td>\n",
              "      <td>40.768515</td>\n",
              "      <td>1</td>\n",
              "      <td>N</td>\n",
              "      <td>-73.983911</td>\n",
              "      <td>40.745913</td>\n",
              "      <td>CSH</td>\n",
              "      <td>13.5</td>\n",
              "      <td>1.0</td>\n",
              "      <td>0.5</td>\n",
              "      <td>0.0</td>\n",
              "      <td>0.0</td>\n",
              "      <td>15.0</td>\n",
              "    </tr>\n",
              "    <tr>\n",
              "      <th>14750002</th>\n",
              "      <td>CMT</td>\n",
              "      <td>2013-01-06 03:52:13</td>\n",
              "      <td>2013-01-06 03:57:53</td>\n",
              "      <td>1</td>\n",
              "      <td>1.2</td>\n",
              "      <td>-73.988092</td>\n",
              "      <td>40.722707</td>\n",
              "      <td>1</td>\n",
              "      <td>N</td>\n",
              "      <td>-73.976549</td>\n",
              "      <td>40.735186</td>\n",
              "      <td>CSH</td>\n",
              "      <td>6.0</td>\n",
              "      <td>0.5</td>\n",
              "      <td>0.5</td>\n",
              "      <td>0.0</td>\n",
              "      <td>0.0</td>\n",
              "      <td>7.0</td>\n",
              "    </tr>\n",
              "    <tr>\n",
              "      <th>14750003</th>\n",
              "      <td>CMT</td>\n",
              "      <td>2013-01-07 08:09:37</td>\n",
              "      <td>2013-01-07 08:12:02</td>\n",
              "      <td>1</td>\n",
              "      <td>0.6</td>\n",
              "      <td>-73.986484</td>\n",
              "      <td>40.755632</td>\n",
              "      <td>1</td>\n",
              "      <td>N</td>\n",
              "      <td>-73.990346</td>\n",
              "      <td>40.731513</td>\n",
              "      <td>CSH</td>\n",
              "      <td>4.0</td>\n",
              "      <td>0.0</td>\n",
              "      <td>0.5</td>\n",
              "      <td>0.0</td>\n",
              "      <td>0.0</td>\n",
              "      <td>4.5</td>\n",
              "    </tr>\n",
              "    <tr>\n",
              "      <th>14750004</th>\n",
              "      <td>CMT</td>\n",
              "      <td>2013-01-10 06:41:14</td>\n",
              "      <td>2013-01-10 06:45:29</td>\n",
              "      <td>1</td>\n",
              "      <td>0.7</td>\n",
              "      <td>-73.985062</td>\n",
              "      <td>40.768496</td>\n",
              "      <td>1</td>\n",
              "      <td>N</td>\n",
              "      <td>-73.980066</td>\n",
              "      <td>40.763805</td>\n",
              "      <td>CSH</td>\n",
              "      <td>5.0</td>\n",
              "      <td>0.0</td>\n",
              "      <td>0.5</td>\n",
              "      <td>0.0</td>\n",
              "      <td>0.0</td>\n",
              "      <td>5.5</td>\n",
              "    </tr>\n",
              "  </tbody>\n",
              "</table>\n",
              "</div>"
            ],
            "text/plain": [
              "         vendor_id      pickup_datetime  ... tolls_amount  total_amount\n",
              "14750000       CMT  2013-01-08 06:41:16  ...          0.0           9.5\n",
              "14750001       CMT  2013-01-07 16:11:38  ...          0.0          15.0\n",
              "14750002       CMT  2013-01-06 03:52:13  ...          0.0           7.0\n",
              "14750003       CMT  2013-01-07 08:09:37  ...          0.0           4.5\n",
              "14750004       CMT  2013-01-10 06:41:14  ...          0.0           5.5\n",
              "\n",
              "[5 rows x 18 columns]"
            ]
          },
          "metadata": {
            "tags": []
          },
          "execution_count": 62
        }
      ]
    },
    {
      "cell_type": "markdown",
      "metadata": {
        "id": "5axaDsqa7BL-"
      },
      "source": [
        "### Filtering out long trips of more that "
      ]
    },
    {
      "cell_type": "code",
      "metadata": {
        "colab": {
          "base_uri": "https://localhost:8080/"
        },
        "id": "8J4VqY9H6lt_",
        "outputId": "0363c71b-dca1-4c11-a20e-b86967a7e5f2"
      },
      "source": [
        "is_expensive = (chunk.total_amount > 13)\r\n",
        "chunk.loc[is_expensive].shape"
      ],
      "execution_count": 63,
      "outputs": [
        {
          "output_type": "execute_result",
          "data": {
            "text/plain": [
              "(5887, 18)"
            ]
          },
          "metadata": {
            "tags": []
          },
          "execution_count": 63
        }
      ]
    },
    {
      "cell_type": "markdown",
      "metadata": {
        "id": "Zm-2wRIZ7rHA"
      },
      "source": [
        "Now we will appy this to the entire dataset:"
      ]
    },
    {
      "cell_type": "code",
      "metadata": {
        "id": "6BObVNKB7q3I"
      },
      "source": [
        "def is_expensive_trip(data):\r\n",
        "    \"\"\"\r\n",
        "    Returns a dataframe with trip cost more than 13 USD\r\n",
        "    \"\"\"\r\n",
        "    is_expensive = (data.total_amount > 13)\r\n",
        "    return data.loc[is_expensive]"
      ],
      "execution_count": 64,
      "outputs": []
    },
    {
      "cell_type": "markdown",
      "metadata": {
        "id": "3Ypft2bD8IjM"
      },
      "source": [
        "applying it to all:\r\n"
      ]
    },
    {
      "cell_type": "code",
      "metadata": {
        "colab": {
          "base_uri": "https://localhost:8080/"
        },
        "id": "LqCk8igv8RnY",
        "outputId": "34adddbb-2ba9-4e87-dc7e-f567d1a97637"
      },
      "source": [
        "%%time\r\n",
        "chunks = []\r\n",
        "for chunk in tqdm(pd.read_csv(filename, chunksize=50000)):\r\n",
        "    chunks.append(is_expensive_trip(chunk))"
      ],
      "execution_count": 65,
      "outputs": [
        {
          "output_type": "stream",
          "text": [
            "296it [00:41,  7.06it/s]"
          ],
          "name": "stderr"
        },
        {
          "output_type": "stream",
          "text": [
            "CPU times: user 40.6 s, sys: 1.78 s, total: 42.3 s\n",
            "Wall time: 42.4 s\n"
          ],
          "name": "stdout"
        },
        {
          "output_type": "stream",
          "text": [
            "\n"
          ],
          "name": "stderr"
        }
      ]
    },
    {
      "cell_type": "markdown",
      "metadata": {
        "id": "DVLLSG7IMK7G"
      },
      "source": [
        "**The entire dataset was mever in the memory at one time**"
      ]
    },
    {
      "cell_type": "code",
      "metadata": {
        "colab": {
          "base_uri": "https://localhost:8080/"
        },
        "id": "H6lduLwEMPLh",
        "outputId": "be40b212-8178-4f09-8bc4-e57441e74ccb"
      },
      "source": [
        "chunk.info()"
      ],
      "execution_count": 66,
      "outputs": [
        {
          "output_type": "stream",
          "text": [
            "<class 'pandas.core.frame.DataFrame'>\n",
            "RangeIndex: 26615 entries, 14750000 to 14776614\n",
            "Data columns (total 18 columns):\n",
            " #   Column              Non-Null Count  Dtype  \n",
            "---  ------              --------------  -----  \n",
            " 0   vendor_id           26615 non-null  object \n",
            " 1   pickup_datetime     26615 non-null  object \n",
            " 2   dropoff_datetime    26615 non-null  object \n",
            " 3   passenger_count     26615 non-null  int64  \n",
            " 4   trip_distance       26615 non-null  float64\n",
            " 5   pickup_longitude    26615 non-null  float64\n",
            " 6   pickup_latitude     26615 non-null  float64\n",
            " 7   rate_code           26615 non-null  int64  \n",
            " 8   store_and_fwd_flag  25485 non-null  object \n",
            " 9   dropoff_longitude   26615 non-null  float64\n",
            " 10  dropoff_latitude    26615 non-null  float64\n",
            " 11  payment_type        26615 non-null  object \n",
            " 12  fare_amount         26615 non-null  float64\n",
            " 13  surcharge           26615 non-null  float64\n",
            " 14  mta_tax             26615 non-null  float64\n",
            " 15  tip_amount          26615 non-null  float64\n",
            " 16  tolls_amount        26615 non-null  float64\n",
            " 17  total_amount        26615 non-null  float64\n",
            "dtypes: float64(11), int64(2), object(5)\n",
            "memory usage: 3.7+ MB\n"
          ],
          "name": "stdout"
        }
      ]
    },
    {
      "cell_type": "code",
      "metadata": {
        "colab": {
          "base_uri": "https://localhost:8080/"
        },
        "id": "oPJZf0Gg89E7",
        "outputId": "9b59d4cf-7e87-43e7-8575-69fb7d52914c"
      },
      "source": [
        "len(chunks)"
      ],
      "execution_count": 67,
      "outputs": [
        {
          "output_type": "execute_result",
          "data": {
            "text/plain": [
              "296"
            ]
          },
          "metadata": {
            "tags": []
          },
          "execution_count": 67
        }
      ]
    },
    {
      "cell_type": "code",
      "metadata": {
        "colab": {
          "base_uri": "https://localhost:8080/"
        },
        "id": "bH9iD_Qb84SG",
        "outputId": "87e2b978-3bb0-4914-941d-71c23873fc36"
      },
      "source": [
        "expensive_trips_df = pd.concat(chunks)\r\n",
        "expensive_trips_df.shape"
      ],
      "execution_count": 68,
      "outputs": [
        {
          "output_type": "execute_result",
          "data": {
            "text/plain": [
              "(5059354, 18)"
            ]
          },
          "metadata": {
            "tags": []
          },
          "execution_count": 68
        }
      ]
    },
    {
      "cell_type": "code",
      "metadata": {
        "colab": {
          "base_uri": "https://localhost:8080/",
          "height": 280
        },
        "id": "gFQ6OAX99OM1",
        "outputId": "e2d4d9dd-ce73-45ff-a3ff-ee9e33684af5"
      },
      "source": [
        "sns.scatterplot(x=\"trip_distance\", y=\"total_amount\", data=expensive_trips_df)\r\n",
        "plt.show()"
      ],
      "execution_count": 69,
      "outputs": [
        {
          "output_type": "display_data",
          "data": {
            "image/png": "[encoded data removed]",
            "text/plain": [
              "<Figure size 432x288 with 1 Axes>"
            ]
          },
          "metadata": {
            "tags": [],
            "needs_background": "light"
          }
        }
      ]
    },
    {
      "cell_type": "markdown",
      "metadata": {
        "id": "_J9JAbTINMbH"
      },
      "source": [
        "### Exercise: Filtering WDI data in chunks\r\n",
        "\r\n",
        "**Task:** Using the World Bank's World Development Indicators (or WDI) dataset, you're going to plot the percentage of the population of Australia in urban centers since 1980.\r\n",
        "\r\n",
        "Your job is to loop over chunks of the WDI dataset; from each chunk, you will filter out rows describing Australia's \"percent urban population.\" You'll then concatenate the filtered chunks and plot the results. "
      ]
    },
    {
      "cell_type": "markdown",
      "metadata": {
        "id": "aPy8tHKlsjPO"
      },
      "source": [
        "### Downloading the dataset from kaggle\r\n",
        "\r\n",
        "**setting up kaggle datasets on colab**\r\n",
        "\r\n",
        "[how to set up kaggle datasets on colab](https://towardsdatascience.com/downloading-kaggle-datasets-directly-into-google-colab-c8f0f407d73a)"
      ]
    },
    {
      "cell_type": "code",
      "metadata": {
        "id": "i687BE61MDPV"
      },
      "source": [
        "!pip install -q kaggle"
      ],
      "execution_count": 72,
      "outputs": []
    },
    {
      "cell_type": "code",
      "metadata": {
        "colab": {
          "base_uri": "https://localhost:8080/",
          "height": 35
        },
        "id": "9TVsNEzrsPeN",
        "outputId": "7fdf6529-568c-46ff-8e86-0933b132a910"
      },
      "source": [
        "os.getcwd()"
      ],
      "execution_count": 73,
      "outputs": [
        {
          "output_type": "execute_result",
          "data": {
            "application/vnd.google.colaboratory.intrinsic+json": {
              "type": "string"
            },
            "text/plain": [
              "'/content'"
            ]
          },
          "metadata": {
            "tags": []
          },
          "execution_count": 73
        }
      ]
    },
    {
      "cell_type": "code",
      "metadata": {
        "id": "ysIfNi0VsTht"
      },
      "source": [
        "os.environ[\"KAGGLE_CONFIG_DIR\"] = \"/content/drive/MyDrive/Colab Notebooks/Data Science/kaggle\""
      ],
      "execution_count": 74,
      "outputs": []
    },
    {
      "cell_type": "code",
      "metadata": {
        "colab": {
          "base_uri": "https://localhost:8080/"
        },
        "id": "HFF1mcT4qCdv",
        "outputId": "ef8c5a40-2726-4ee3-9cb8-c0cbce349300"
      },
      "source": [
        "!kaggle datasets download -d worldbank/world-development-indicators"
      ],
      "execution_count": 75,
      "outputs": [
        {
          "output_type": "stream",
          "text": [
            "Downloading world-development-indicators.zip to /content\n",
            " 98% 361M/369M [00:07<00:00, 37.4MB/s]\n",
            "100% 369M/369M [00:07<00:00, 48.9MB/s]\n"
          ],
          "name": "stdout"
        }
      ]
    },
    {
      "cell_type": "code",
      "metadata": {
        "id": "amY9UBQFtFEp"
      },
      "source": [
        "%%time\r\n",
        "with ZipFile(\"/content/world-development-indicators.zip\", \"r\") as zfile:\r\n",
        "    zfile.extractall()"
      ],
      "execution_count": 78,
      "outputs": []
    },
    {
      "cell_type": "markdown",
      "metadata": {
        "id": "VJbpWl7ftwcJ"
      },
      "source": [
        "## Analyzing the dataset\r\n",
        "\r\n",
        "Since the dataset is huge, we will analyse it in chunks.\r\n",
        "\r\n",
        "**Task**: Describe Australia's \"percent urban population"
      ]
    },
    {
      "cell_type": "code",
      "metadata": {
        "id": "eJDnA1aLtlyZ"
      },
      "source": [
        "%%time\r\n",
        "dfs = []\r\n",
        "\r\n",
        "for chunk in pd.read_csv(\"Indicators.csv\", chunksize=5000):\r\n",
        "    # IndicatorName Urban population (% of total)\r\n",
        "    # CountryCode == AUS\r\n",
        "    is_urban = (chunk[\"IndicatorName\"]==\"Urban population (% of total)\")\r\n",
        "    is_aus = (chunk[\"CountryCode\"]==\"AUS\")\r\n",
        "    filtered = chunk.loc[is_urban & is_aus]\r\n",
        "    dfs.append(filtered)"
      ],
      "execution_count": 89,
      "outputs": []
    },
    {
      "cell_type": "code",
      "metadata": {
        "colab": {
          "base_uri": "https://localhost:8080/"
        },
        "id": "Jof8tTK3wacU",
        "outputId": "73e73498-3ed0-4778-e1e3-c00964d30c42"
      },
      "source": [
        "len(dfs)"
      ],
      "execution_count": 90,
      "outputs": [
        {
          "output_type": "execute_result",
          "data": {
            "text/plain": [
              "1132"
            ]
          },
          "metadata": {
            "tags": []
          },
          "execution_count": 90
        }
      ]
    },
    {
      "cell_type": "code",
      "metadata": {
        "colab": {
          "base_uri": "https://localhost:8080/",
          "height": 1000
        },
        "id": "byqdymwowdQz",
        "outputId": "d17c942f-dc68-43d7-c5c8-dbbc55a6fba7"
      },
      "source": [
        "df = pd.concat(dfs)\r\n",
        "df"
      ],
      "execution_count": 94,
      "outputs": [
        {
          "output_type": "execute_result",
          "data": {
            "text/html": [
              "<div>\n",
              "<style scoped>\n",
              "    .dataframe tbody tr th:only-of-type {\n",
              "        vertical-align: middle;\n",
              "    }\n",
              "\n",
              "    .dataframe tbody tr th {\n",
              "        vertical-align: top;\n",
              "    }\n",
              "\n",
              "    .dataframe thead th {\n",
              "        text-align: right;\n",
              "    }\n",
              "</style>\n",
              "<table border=\"1\" class=\"dataframe\">\n",
              "  <thead>\n",
              "    <tr style=\"text-align: right;\">\n",
              "      <th></th>\n",
              "      <th>CountryName</th>\n",
              "      <th>CountryCode</th>\n",
              "      <th>IndicatorName</th>\n",
              "      <th>IndicatorCode</th>\n",
              "      <th>Year</th>\n",
              "      <th>Value</th>\n",
              "    </tr>\n",
              "  </thead>\n",
              "  <tbody>\n",
              "    <tr>\n",
              "      <th>4371</th>\n",
              "      <td>Australia</td>\n",
              "      <td>AUS</td>\n",
              "      <td>Urban population (% of total)</td>\n",
              "      <td>SP.URB.TOTL.IN.ZS</td>\n",
              "      <td>1960</td>\n",
              "      <td>81.529</td>\n",
              "    </tr>\n",
              "    <tr>\n",
              "      <th>28235</th>\n",
              "      <td>Australia</td>\n",
              "      <td>AUS</td>\n",
              "      <td>Urban population (% of total)</td>\n",
              "      <td>SP.URB.TOTL.IN.ZS</td>\n",
              "      <td>1961</td>\n",
              "      <td>81.941</td>\n",
              "    </tr>\n",
              "    <tr>\n",
              "      <th>55143</th>\n",
              "      <td>Australia</td>\n",
              "      <td>AUS</td>\n",
              "      <td>Urban population (% of total)</td>\n",
              "      <td>SP.URB.TOTL.IN.ZS</td>\n",
              "      <td>1962</td>\n",
              "      <td>82.337</td>\n",
              "    </tr>\n",
              "    <tr>\n",
              "      <th>83535</th>\n",
              "      <td>Australia</td>\n",
              "      <td>AUS</td>\n",
              "      <td>Urban population (% of total)</td>\n",
              "      <td>SP.URB.TOTL.IN.ZS</td>\n",
              "      <td>1963</td>\n",
              "      <td>82.727</td>\n",
              "    </tr>\n",
              "    <tr>\n",
              "      <th>112227</th>\n",
              "      <td>Australia</td>\n",
              "      <td>AUS</td>\n",
              "      <td>Urban population (% of total)</td>\n",
              "      <td>SP.URB.TOTL.IN.ZS</td>\n",
              "      <td>1964</td>\n",
              "      <td>83.110</td>\n",
              "    </tr>\n",
              "    <tr>\n",
              "      <th>141761</th>\n",
              "      <td>Australia</td>\n",
              "      <td>AUS</td>\n",
              "      <td>Urban population (% of total)</td>\n",
              "      <td>SP.URB.TOTL.IN.ZS</td>\n",
              "      <td>1965</td>\n",
              "      <td>83.485</td>\n",
              "    </tr>\n",
              "    <tr>\n",
              "      <th>173635</th>\n",
              "      <td>Australia</td>\n",
              "      <td>AUS</td>\n",
              "      <td>Urban population (% of total)</td>\n",
              "      <td>SP.URB.TOTL.IN.ZS</td>\n",
              "      <td>1966</td>\n",
              "      <td>83.855</td>\n",
              "    </tr>\n",
              "    <tr>\n",
              "      <th>205222</th>\n",
              "      <td>Australia</td>\n",
              "      <td>AUS</td>\n",
              "      <td>Urban population (% of total)</td>\n",
              "      <td>SP.URB.TOTL.IN.ZS</td>\n",
              "      <td>1967</td>\n",
              "      <td>84.217</td>\n",
              "    </tr>\n",
              "    <tr>\n",
              "      <th>237934</th>\n",
              "      <td>Australia</td>\n",
              "      <td>AUS</td>\n",
              "      <td>Urban population (% of total)</td>\n",
              "      <td>SP.URB.TOTL.IN.ZS</td>\n",
              "      <td>1968</td>\n",
              "      <td>84.573</td>\n",
              "    </tr>\n",
              "    <tr>\n",
              "      <th>270629</th>\n",
              "      <td>Australia</td>\n",
              "      <td>AUS</td>\n",
              "      <td>Urban population (% of total)</td>\n",
              "      <td>SP.URB.TOTL.IN.ZS</td>\n",
              "      <td>1969</td>\n",
              "      <td>84.922</td>\n",
              "    </tr>\n",
              "    <tr>\n",
              "      <th>308785</th>\n",
              "      <td>Australia</td>\n",
              "      <td>AUS</td>\n",
              "      <td>Urban population (% of total)</td>\n",
              "      <td>SP.URB.TOTL.IN.ZS</td>\n",
              "      <td>1970</td>\n",
              "      <td>85.265</td>\n",
              "    </tr>\n",
              "    <tr>\n",
              "      <th>371882</th>\n",
              "      <td>Australia</td>\n",
              "      <td>AUS</td>\n",
              "      <td>Urban population (% of total)</td>\n",
              "      <td>SP.URB.TOTL.IN.ZS</td>\n",
              "      <td>1971</td>\n",
              "      <td>85.600</td>\n",
              "    </tr>\n",
              "    <tr>\n",
              "      <th>440414</th>\n",
              "      <td>Australia</td>\n",
              "      <td>AUS</td>\n",
              "      <td>Urban population (% of total)</td>\n",
              "      <td>SP.URB.TOTL.IN.ZS</td>\n",
              "      <td>1972</td>\n",
              "      <td>85.681</td>\n",
              "    </tr>\n",
              "    <tr>\n",
              "      <th>510297</th>\n",
              "      <td>Australia</td>\n",
              "      <td>AUS</td>\n",
              "      <td>Urban population (% of total)</td>\n",
              "      <td>SP.URB.TOTL.IN.ZS</td>\n",
              "      <td>1973</td>\n",
              "      <td>85.761</td>\n",
              "    </tr>\n",
              "    <tr>\n",
              "      <th>579903</th>\n",
              "      <td>Australia</td>\n",
              "      <td>AUS</td>\n",
              "      <td>Urban population (% of total)</td>\n",
              "      <td>SP.URB.TOTL.IN.ZS</td>\n",
              "      <td>1974</td>\n",
              "      <td>85.841</td>\n",
              "    </tr>\n",
              "    <tr>\n",
              "      <th>650438</th>\n",
              "      <td>Australia</td>\n",
              "      <td>AUS</td>\n",
              "      <td>Urban population (% of total)</td>\n",
              "      <td>SP.URB.TOTL.IN.ZS</td>\n",
              "      <td>1975</td>\n",
              "      <td>85.921</td>\n",
              "    </tr>\n",
              "    <tr>\n",
              "      <th>723013</th>\n",
              "      <td>Australia</td>\n",
              "      <td>AUS</td>\n",
              "      <td>Urban population (% of total)</td>\n",
              "      <td>SP.URB.TOTL.IN.ZS</td>\n",
              "      <td>1976</td>\n",
              "      <td>86.000</td>\n",
              "    </tr>\n",
              "    <tr>\n",
              "      <th>796804</th>\n",
              "      <td>Australia</td>\n",
              "      <td>AUS</td>\n",
              "      <td>Urban population (% of total)</td>\n",
              "      <td>SP.URB.TOTL.IN.ZS</td>\n",
              "      <td>1977</td>\n",
              "      <td>85.940</td>\n",
              "    </tr>\n",
              "    <tr>\n",
              "      <th>872474</th>\n",
              "      <td>Australia</td>\n",
              "      <td>AUS</td>\n",
              "      <td>Urban population (% of total)</td>\n",
              "      <td>SP.URB.TOTL.IN.ZS</td>\n",
              "      <td>1978</td>\n",
              "      <td>85.881</td>\n",
              "    </tr>\n",
              "    <tr>\n",
              "      <th>948160</th>\n",
              "      <td>Australia</td>\n",
              "      <td>AUS</td>\n",
              "      <td>Urban population (% of total)</td>\n",
              "      <td>SP.URB.TOTL.IN.ZS</td>\n",
              "      <td>1979</td>\n",
              "      <td>85.821</td>\n",
              "    </tr>\n",
              "    <tr>\n",
              "      <th>1024697</th>\n",
              "      <td>Australia</td>\n",
              "      <td>AUS</td>\n",
              "      <td>Urban population (% of total)</td>\n",
              "      <td>SP.URB.TOTL.IN.ZS</td>\n",
              "      <td>1980</td>\n",
              "      <td>85.760</td>\n",
              "    </tr>\n",
              "    <tr>\n",
              "      <th>1106295</th>\n",
              "      <td>Australia</td>\n",
              "      <td>AUS</td>\n",
              "      <td>Urban population (% of total)</td>\n",
              "      <td>SP.URB.TOTL.IN.ZS</td>\n",
              "      <td>1981</td>\n",
              "      <td>85.700</td>\n",
              "    </tr>\n",
              "    <tr>\n",
              "      <th>1190807</th>\n",
              "      <td>Australia</td>\n",
              "      <td>AUS</td>\n",
              "      <td>Urban population (% of total)</td>\n",
              "      <td>SP.URB.TOTL.IN.ZS</td>\n",
              "      <td>1982</td>\n",
              "      <td>85.640</td>\n",
              "    </tr>\n",
              "    <tr>\n",
              "      <th>1275920</th>\n",
              "      <td>Australia</td>\n",
              "      <td>AUS</td>\n",
              "      <td>Urban population (% of total)</td>\n",
              "      <td>SP.URB.TOTL.IN.ZS</td>\n",
              "      <td>1983</td>\n",
              "      <td>85.580</td>\n",
              "    </tr>\n",
              "    <tr>\n",
              "      <th>1361450</th>\n",
              "      <td>Australia</td>\n",
              "      <td>AUS</td>\n",
              "      <td>Urban population (% of total)</td>\n",
              "      <td>SP.URB.TOTL.IN.ZS</td>\n",
              "      <td>1984</td>\n",
              "      <td>85.520</td>\n",
              "    </tr>\n",
              "    <tr>\n",
              "      <th>1447694</th>\n",
              "      <td>Australia</td>\n",
              "      <td>AUS</td>\n",
              "      <td>Urban population (% of total)</td>\n",
              "      <td>SP.URB.TOTL.IN.ZS</td>\n",
              "      <td>1985</td>\n",
              "      <td>85.460</td>\n",
              "    </tr>\n",
              "    <tr>\n",
              "      <th>1535143</th>\n",
              "      <td>Australia</td>\n",
              "      <td>AUS</td>\n",
              "      <td>Urban population (% of total)</td>\n",
              "      <td>SP.URB.TOTL.IN.ZS</td>\n",
              "      <td>1986</td>\n",
              "      <td>85.400</td>\n",
              "    </tr>\n",
              "    <tr>\n",
              "      <th>1623422</th>\n",
              "      <td>Australia</td>\n",
              "      <td>AUS</td>\n",
              "      <td>Urban population (% of total)</td>\n",
              "      <td>SP.URB.TOTL.IN.ZS</td>\n",
              "      <td>1987</td>\n",
              "      <td>85.400</td>\n",
              "    </tr>\n",
              "    <tr>\n",
              "      <th>1712679</th>\n",
              "      <td>Australia</td>\n",
              "      <td>AUS</td>\n",
              "      <td>Urban population (% of total)</td>\n",
              "      <td>SP.URB.TOTL.IN.ZS</td>\n",
              "      <td>1988</td>\n",
              "      <td>85.400</td>\n",
              "    </tr>\n",
              "    <tr>\n",
              "      <th>1802771</th>\n",
              "      <td>Australia</td>\n",
              "      <td>AUS</td>\n",
              "      <td>Urban population (% of total)</td>\n",
              "      <td>SP.URB.TOTL.IN.ZS</td>\n",
              "      <td>1989</td>\n",
              "      <td>85.400</td>\n",
              "    </tr>\n",
              "    <tr>\n",
              "      <th>1899935</th>\n",
              "      <td>Australia</td>\n",
              "      <td>AUS</td>\n",
              "      <td>Urban population (% of total)</td>\n",
              "      <td>SP.URB.TOTL.IN.ZS</td>\n",
              "      <td>1990</td>\n",
              "      <td>85.400</td>\n",
              "    </tr>\n",
              "    <tr>\n",
              "      <th>2017171</th>\n",
              "      <td>Australia</td>\n",
              "      <td>AUS</td>\n",
              "      <td>Urban population (% of total)</td>\n",
              "      <td>SP.URB.TOTL.IN.ZS</td>\n",
              "      <td>1991</td>\n",
              "      <td>85.400</td>\n",
              "    </tr>\n",
              "    <tr>\n",
              "      <th>2133694</th>\n",
              "      <td>Australia</td>\n",
              "      <td>AUS</td>\n",
              "      <td>Urban population (% of total)</td>\n",
              "      <td>SP.URB.TOTL.IN.ZS</td>\n",
              "      <td>1992</td>\n",
              "      <td>85.566</td>\n",
              "    </tr>\n",
              "    <tr>\n",
              "      <th>2255599</th>\n",
              "      <td>Australia</td>\n",
              "      <td>AUS</td>\n",
              "      <td>Urban population (% of total)</td>\n",
              "      <td>SP.URB.TOTL.IN.ZS</td>\n",
              "      <td>1993</td>\n",
              "      <td>85.748</td>\n",
              "    </tr>\n",
              "    <tr>\n",
              "      <th>2379536</th>\n",
              "      <td>Australia</td>\n",
              "      <td>AUS</td>\n",
              "      <td>Urban population (% of total)</td>\n",
              "      <td>SP.URB.TOTL.IN.ZS</td>\n",
              "      <td>1994</td>\n",
              "      <td>85.928</td>\n",
              "    </tr>\n",
              "    <tr>\n",
              "      <th>2506690</th>\n",
              "      <td>Australia</td>\n",
              "      <td>AUS</td>\n",
              "      <td>Urban population (% of total)</td>\n",
              "      <td>SP.URB.TOTL.IN.ZS</td>\n",
              "      <td>1995</td>\n",
              "      <td>86.106</td>\n",
              "    </tr>\n",
              "    <tr>\n",
              "      <th>2641771</th>\n",
              "      <td>Australia</td>\n",
              "      <td>AUS</td>\n",
              "      <td>Urban population (% of total)</td>\n",
              "      <td>SP.URB.TOTL.IN.ZS</td>\n",
              "      <td>1996</td>\n",
              "      <td>86.283</td>\n",
              "    </tr>\n",
              "    <tr>\n",
              "      <th>2777294</th>\n",
              "      <td>Australia</td>\n",
              "      <td>AUS</td>\n",
              "      <td>Urban population (% of total)</td>\n",
              "      <td>SP.URB.TOTL.IN.ZS</td>\n",
              "      <td>1997</td>\n",
              "      <td>86.504</td>\n",
              "    </tr>\n",
              "    <tr>\n",
              "      <th>2913632</th>\n",
              "      <td>Australia</td>\n",
              "      <td>AUS</td>\n",
              "      <td>Urban population (% of total)</td>\n",
              "      <td>SP.URB.TOTL.IN.ZS</td>\n",
              "      <td>1998</td>\n",
              "      <td>86.727</td>\n",
              "    </tr>\n",
              "    <tr>\n",
              "      <th>3051222</th>\n",
              "      <td>Australia</td>\n",
              "      <td>AUS</td>\n",
              "      <td>Urban population (% of total)</td>\n",
              "      <td>SP.URB.TOTL.IN.ZS</td>\n",
              "      <td>1999</td>\n",
              "      <td>86.947</td>\n",
              "    </tr>\n",
              "    <tr>\n",
              "      <th>3196085</th>\n",
              "      <td>Australia</td>\n",
              "      <td>AUS</td>\n",
              "      <td>Urban population (% of total)</td>\n",
              "      <td>SP.URB.TOTL.IN.ZS</td>\n",
              "      <td>2000</td>\n",
              "      <td>87.165</td>\n",
              "    </tr>\n",
              "    <tr>\n",
              "      <th>3349525</th>\n",
              "      <td>Australia</td>\n",
              "      <td>AUS</td>\n",
              "      <td>Urban population (% of total)</td>\n",
              "      <td>SP.URB.TOTL.IN.ZS</td>\n",
              "      <td>2001</td>\n",
              "      <td>87.378</td>\n",
              "    </tr>\n",
              "    <tr>\n",
              "      <th>3500604</th>\n",
              "      <td>Australia</td>\n",
              "      <td>AUS</td>\n",
              "      <td>Urban population (% of total)</td>\n",
              "      <td>SP.URB.TOTL.IN.ZS</td>\n",
              "      <td>2002</td>\n",
              "      <td>87.541</td>\n",
              "    </tr>\n",
              "    <tr>\n",
              "      <th>3655559</th>\n",
              "      <td>Australia</td>\n",
              "      <td>AUS</td>\n",
              "      <td>Urban population (% of total)</td>\n",
              "      <td>SP.URB.TOTL.IN.ZS</td>\n",
              "      <td>2003</td>\n",
              "      <td>87.695</td>\n",
              "    </tr>\n",
              "    <tr>\n",
              "      <th>3809495</th>\n",
              "      <td>Australia</td>\n",
              "      <td>AUS</td>\n",
              "      <td>Urban population (% of total)</td>\n",
              "      <td>SP.URB.TOTL.IN.ZS</td>\n",
              "      <td>2004</td>\n",
              "      <td>87.849</td>\n",
              "    </tr>\n",
              "    <tr>\n",
              "      <th>3971686</th>\n",
              "      <td>Australia</td>\n",
              "      <td>AUS</td>\n",
              "      <td>Urban population (% of total)</td>\n",
              "      <td>SP.URB.TOTL.IN.ZS</td>\n",
              "      <td>2005</td>\n",
              "      <td>88.000</td>\n",
              "    </tr>\n",
              "    <tr>\n",
              "      <th>4151457</th>\n",
              "      <td>Australia</td>\n",
              "      <td>AUS</td>\n",
              "      <td>Urban population (% of total)</td>\n",
              "      <td>SP.URB.TOTL.IN.ZS</td>\n",
              "      <td>2006</td>\n",
              "      <td>88.150</td>\n",
              "    </tr>\n",
              "    <tr>\n",
              "      <th>4329316</th>\n",
              "      <td>Australia</td>\n",
              "      <td>AUS</td>\n",
              "      <td>Urban population (% of total)</td>\n",
              "      <td>SP.URB.TOTL.IN.ZS</td>\n",
              "      <td>2007</td>\n",
              "      <td>88.298</td>\n",
              "    </tr>\n",
              "    <tr>\n",
              "      <th>4509776</th>\n",
              "      <td>Australia</td>\n",
              "      <td>AUS</td>\n",
              "      <td>Urban population (% of total)</td>\n",
              "      <td>SP.URB.TOTL.IN.ZS</td>\n",
              "      <td>2008</td>\n",
              "      <td>88.445</td>\n",
              "    </tr>\n",
              "    <tr>\n",
              "      <th>4689240</th>\n",
              "      <td>Australia</td>\n",
              "      <td>AUS</td>\n",
              "      <td>Urban population (% of total)</td>\n",
              "      <td>SP.URB.TOTL.IN.ZS</td>\n",
              "      <td>2009</td>\n",
              "      <td>88.590</td>\n",
              "    </tr>\n",
              "    <tr>\n",
              "      <th>4869576</th>\n",
              "      <td>Australia</td>\n",
              "      <td>AUS</td>\n",
              "      <td>Urban population (% of total)</td>\n",
              "      <td>SP.URB.TOTL.IN.ZS</td>\n",
              "      <td>2010</td>\n",
              "      <td>88.733</td>\n",
              "    </tr>\n",
              "    <tr>\n",
              "      <th>5054556</th>\n",
              "      <td>Australia</td>\n",
              "      <td>AUS</td>\n",
              "      <td>Urban population (% of total)</td>\n",
              "      <td>SP.URB.TOTL.IN.ZS</td>\n",
              "      <td>2011</td>\n",
              "      <td>88.875</td>\n",
              "    </tr>\n",
              "    <tr>\n",
              "      <th>5230583</th>\n",
              "      <td>Australia</td>\n",
              "      <td>AUS</td>\n",
              "      <td>Urban population (% of total)</td>\n",
              "      <td>SP.URB.TOTL.IN.ZS</td>\n",
              "      <td>2012</td>\n",
              "      <td>89.015</td>\n",
              "    </tr>\n",
              "    <tr>\n",
              "      <th>5403189</th>\n",
              "      <td>Australia</td>\n",
              "      <td>AUS</td>\n",
              "      <td>Urban population (% of total)</td>\n",
              "      <td>SP.URB.TOTL.IN.ZS</td>\n",
              "      <td>2013</td>\n",
              "      <td>89.153</td>\n",
              "    </tr>\n",
              "    <tr>\n",
              "      <th>5550457</th>\n",
              "      <td>Australia</td>\n",
              "      <td>AUS</td>\n",
              "      <td>Urban population (% of total)</td>\n",
              "      <td>SP.URB.TOTL.IN.ZS</td>\n",
              "      <td>2014</td>\n",
              "      <td>89.289</td>\n",
              "    </tr>\n",
              "  </tbody>\n",
              "</table>\n",
              "</div>"
            ],
            "text/plain": [
              "        CountryName CountryCode  ...  Year   Value\n",
              "4371      Australia         AUS  ...  1960  81.529\n",
              "28235     Australia         AUS  ...  1961  81.941\n",
              "55143     Australia         AUS  ...  1962  82.337\n",
              "83535     Australia         AUS  ...  1963  82.727\n",
              "112227    Australia         AUS  ...  1964  83.110\n",
              "141761    Australia         AUS  ...  1965  83.485\n",
              "173635    Australia         AUS  ...  1966  83.855\n",
              "205222    Australia         AUS  ...  1967  84.217\n",
              "237934    Australia         AUS  ...  1968  84.573\n",
              "270629    Australia         AUS  ...  1969  84.922\n",
              "308785    Australia         AUS  ...  1970  85.265\n",
              "371882    Australia         AUS  ...  1971  85.600\n",
              "440414    Australia         AUS  ...  1972  85.681\n",
              "510297    Australia         AUS  ...  1973  85.761\n",
              "579903    Australia         AUS  ...  1974  85.841\n",
              "650438    Australia         AUS  ...  1975  85.921\n",
              "723013    Australia         AUS  ...  1976  86.000\n",
              "796804    Australia         AUS  ...  1977  85.940\n",
              "872474    Australia         AUS  ...  1978  85.881\n",
              "948160    Australia         AUS  ...  1979  85.821\n",
              "1024697   Australia         AUS  ...  1980  85.760\n",
              "1106295   Australia         AUS  ...  1981  85.700\n",
              "1190807   Australia         AUS  ...  1982  85.640\n",
              "1275920   Australia         AUS  ...  1983  85.580\n",
              "1361450   Australia         AUS  ...  1984  85.520\n",
              "1447694   Australia         AUS  ...  1985  85.460\n",
              "1535143   Australia         AUS  ...  1986  85.400\n",
              "1623422   Australia         AUS  ...  1987  85.400\n",
              "1712679   Australia         AUS  ...  1988  85.400\n",
              "1802771   Australia         AUS  ...  1989  85.400\n",
              "1899935   Australia         AUS  ...  1990  85.400\n",
              "2017171   Australia         AUS  ...  1991  85.400\n",
              "2133694   Australia         AUS  ...  1992  85.566\n",
              "2255599   Australia         AUS  ...  1993  85.748\n",
              "2379536   Australia         AUS  ...  1994  85.928\n",
              "2506690   Australia         AUS  ...  1995  86.106\n",
              "2641771   Australia         AUS  ...  1996  86.283\n",
              "2777294   Australia         AUS  ...  1997  86.504\n",
              "2913632   Australia         AUS  ...  1998  86.727\n",
              "3051222   Australia         AUS  ...  1999  86.947\n",
              "3196085   Australia         AUS  ...  2000  87.165\n",
              "3349525   Australia         AUS  ...  2001  87.378\n",
              "3500604   Australia         AUS  ...  2002  87.541\n",
              "3655559   Australia         AUS  ...  2003  87.695\n",
              "3809495   Australia         AUS  ...  2004  87.849\n",
              "3971686   Australia         AUS  ...  2005  88.000\n",
              "4151457   Australia         AUS  ...  2006  88.150\n",
              "4329316   Australia         AUS  ...  2007  88.298\n",
              "4509776   Australia         AUS  ...  2008  88.445\n",
              "4689240   Australia         AUS  ...  2009  88.590\n",
              "4869576   Australia         AUS  ...  2010  88.733\n",
              "5054556   Australia         AUS  ...  2011  88.875\n",
              "5230583   Australia         AUS  ...  2012  89.015\n",
              "5403189   Australia         AUS  ...  2013  89.153\n",
              "5550457   Australia         AUS  ...  2014  89.289\n",
              "\n",
              "[55 rows x 6 columns]"
            ]
          },
          "metadata": {
            "tags": []
          },
          "execution_count": 94
        }
      ]
    },
    {
      "cell_type": "code",
      "metadata": {
        "colab": {
          "base_uri": "https://localhost:8080/",
          "height": 279
        },
        "id": "L2LKWTCVw0ob",
        "outputId": "505b668b-c6f2-4f39-acde-fce6e3c05899"
      },
      "source": [
        "sns.lineplot(x=\"Year\", y=\"Value\", data=df)\r\n",
        "plt.show()"
      ],
      "execution_count": 95,
      "outputs": [
        {
          "output_type": "display_data",
          "data": {
            "image/png": "[encoded data removed]",
            "text/plain": [
              "<Figure size 432x288 with 1 Axes>"
            ]
          },
          "metadata": {
            "tags": [],
            "needs_background": "light"
          }
        }
      ]
    }
  ]
}