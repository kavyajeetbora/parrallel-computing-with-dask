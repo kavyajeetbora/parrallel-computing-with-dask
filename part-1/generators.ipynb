{
  "nbformat": 4,
  "nbformat_minor": 0,
  "metadata": {
    "colab": {
      "name": "generators.ipynb",
      "provenance": [],
      "authorship_tag": "ABX9TyMji68paxRS7QUWwpovDaud",
      "include_colab_link": true
    },
    "kernelspec": {
      "name": "python3",
      "display_name": "Python 3"
    }
  },
  "cells": [
    {
      "cell_type": "markdown",
      "metadata": {
        "id": "view-in-github",
        "colab_type": "text"
      },
      "source": [
        "<a href=\"https://colab.research.google.com/github/kavyajeetbora/parrallel-computing-with-dask-datacamp/blob/main/part-1/generators.ipynb\" target=\"_parent\"><img src=\"https://colab.research.google.com/assets/colab-badge.svg\" alt=\"Open In Colab\"/></a>"
      ]
    },
    {
      "cell_type": "code",
      "metadata": {
        "id": "mMrxyDXjA2_N"
      },
      "source": [
        "import pandas as pd\r\n",
        "import numpy as np\r\n",
        "from google.colab import files\r\n",
        "from tqdm import tqdm\r\n",
        "import requests "
      ],
      "execution_count": 1,
      "outputs": []
    },
    {
      "cell_type": "markdown",
      "metadata": {
        "id": "loafMc_5PrJ3"
      },
      "source": [
        "## Generators \r\n",
        "\r\n",
        "Generator expressions resemble comprehensions, but use lazy evaluation. This means **elements are generated one-at-a-time**, so they are never in memory simultaneously This is extremely helpful when operating at the limits of available memory. "
      ]
    },
    {
      "cell_type": "code",
      "metadata": {
        "colab": {
          "base_uri": "https://localhost:8080/",
          "height": 35
        },
        "id": "jGcPmtJLA8Jq",
        "outputId": "f3c8cf4f-ae0d-44ea-f5db-7c0177cdab43"
      },
      "source": [
        "year = 2013\r\n",
        "month = 1\r\n",
        "month = \"0\"+str(month) if month < 10 else month\r\n",
        "file_location = \"https://s3.amazonaws.com/nyc-tlc/trip+data/yellow_tripdata_{:d}-{:s}.csv\".format(year, month)\r\n",
        "file_location"
      ],
      "execution_count": 2,
      "outputs": [
        {
          "output_type": "execute_result",
          "data": {
            "application/vnd.google.colaboratory.intrinsic+json": {
              "type": "string"
            },
            "text/plain": [
              "'https://s3.amazonaws.com/nyc-tlc/trip+data/yellow_tripdata_2013-01.csv'"
            ]
          },
          "metadata": {
            "tags": []
          },
          "execution_count": 2
        }
      ]
    },
    {
      "cell_type": "code",
      "metadata": {
        "colab": {
          "base_uri": "https://localhost:8080/"
        },
        "id": "Q7PkUWU9FMEq",
        "outputId": "4f4319c1-fe06-45d9-e0bf-94c0bca30209"
      },
      "source": [
        "%%time\r\n",
        "for i in tqdm(range(1,13),unit=\"csv_file\"):\r\n",
        "    month = \"0\"+str(i) if i < 10 else str(i)\r\n",
        "    file_location = \"https://s3.amazonaws.com/nyc-tlc/trip+data/yellow_tripdata_{:d}-{:s}.csv\".format(2013, month)\r\n",
        "    # get the response from the link\r\n",
        "    req = requests.get(file_location)\r\n",
        "\r\n",
        "    output_file_name = \"yellow_tripdata_{:d}-{:s}.csv\".format(2013, month)\r\n",
        "    # save the reponse content as csv file\r\n",
        "    with open(output_file_name, \"wb\") as csv_file:\r\n",
        "        csv_file.write(req.content)\r\n",
        "    del req # deleting the request once the csv file is downloaded, to clear up the RAM"
      ],
      "execution_count": 3,
      "outputs": [
        {
          "output_type": "stream",
          "text": [
            "100%|██████████| 12/12 [14:26<00:00, 72.21s/csv_file]"
          ],
          "name": "stderr"
        },
        {
          "output_type": "stream",
          "text": [
            "CPU times: user 1min 42s, sys: 1min 19s, total: 3min 2s\n",
            "Wall time: 14min 26s\n"
          ],
          "name": "stdout"
        },
        {
          "output_type": "stream",
          "text": [
            "\n"
          ],
          "name": "stderr"
        }
      ]
    },
    {
      "cell_type": "markdown",
      "metadata": {
        "id": "cOdY7QvhQYkd"
      },
      "source": [
        "Since the data is very huge and cannot be loaded in the memory once, we will use generators which is based on lazy computing, the calculation will be done one at a time> By this all the data will not be loaded simaltaneously. \r\n",
        "\r\n",
        "\r\n",
        "Here the task is to compute the long trips which are more than 1200 seconds. But beofre that we need to calculate the duration and convert it to seconds\r\n",
        "\r\n",
        "And aslo first we need to see the column names in a dataframe, for that we will load a csv file in chuck since the data volume is huge:"
      ]
    },
    {
      "cell_type": "code",
      "metadata": {
        "id": "CU5OYPgsRYEq",
        "outputId": "3be98543-ef41-4895-e646-8feee25ebb1f",
        "colab": {
          "base_uri": "https://localhost:8080/"
        }
      },
      "source": [
        "for chunk in pd.read_csv(\"yellow_tripdata_2013-11.csv\", chunksize=100, parse_dates=[1,2]):\r\n",
        "    print(chunk.head())\r\n",
        "    print(chunk.info())\r\n",
        "    print(chunk.columns)\r\n",
        "    break"
      ],
      "execution_count": 33,
      "outputs": [
        {
          "output_type": "stream",
          "text": [
            "  vendor_id     pickup_datetime  ... tolls_amount  total_amount\n",
            "0       CMT 2013-11-25 15:53:33  ...          0.0           8.5\n",
            "1       CMT 2013-11-25 15:24:41  ...          0.0           9.0\n",
            "2       CMT 2013-11-25 09:43:42  ...          0.0          17.5\n",
            "3       CMT 2013-11-25 06:49:58  ...          0.0          17.4\n",
            "4       CMT 2013-11-25 10:02:12  ...          0.0          14.5\n",
            "\n",
            "[5 rows x 18 columns]\n",
            "<class 'pandas.core.frame.DataFrame'>\n",
            "RangeIndex: 100 entries, 0 to 99\n",
            "Data columns (total 18 columns):\n",
            " #   Column              Non-Null Count  Dtype         \n",
            "---  ------              --------------  -----         \n",
            " 0   vendor_id           100 non-null    object        \n",
            " 1   pickup_datetime     100 non-null    datetime64[ns]\n",
            " 2   dropoff_datetime    100 non-null    datetime64[ns]\n",
            " 3   passenger_count     100 non-null    int64         \n",
            " 4   trip_distance       100 non-null    float64       \n",
            " 5   pickup_longitude    100 non-null    float64       \n",
            " 6   pickup_latitude     100 non-null    float64       \n",
            " 7   rate_code           100 non-null    int64         \n",
            " 8   store_and_fwd_flag  100 non-null    object        \n",
            " 9   dropoff_longitude   100 non-null    float64       \n",
            " 10  dropoff_latitude    100 non-null    float64       \n",
            " 11  payment_type        100 non-null    object        \n",
            " 12  fare_amount         100 non-null    float64       \n",
            " 13  surcharge           100 non-null    float64       \n",
            " 14  mta_tax             100 non-null    float64       \n",
            " 15  tip_amount          100 non-null    float64       \n",
            " 16  tolls_amount        100 non-null    float64       \n",
            " 17  total_amount        100 non-null    float64       \n",
            "dtypes: datetime64[ns](2), float64(11), int64(2), object(3)\n",
            "memory usage: 14.2+ KB\n",
            "None\n",
            "Index(['vendor_id', 'pickup_datetime', 'dropoff_datetime', 'passenger_count',\n",
            "       'trip_distance', 'pickup_longitude', 'pickup_latitude', 'rate_code',\n",
            "       'store_and_fwd_flag', 'dropoff_longitude', 'dropoff_latitude',\n",
            "       'payment_type', 'fare_amount', 'surcharge', 'mta_tax', 'tip_amount',\n",
            "       'tolls_amount', 'total_amount'],\n",
            "      dtype='object')\n"
          ],
          "name": "stdout"
        }
      ]
    },
    {
      "cell_type": "markdown",
      "metadata": {
        "id": "xIx36rECRy07"
      },
      "source": [
        "Here the difference between pick_datetime and dropoff_datetime will yield the trip duration. That is to be converted to seconds:"
      ]
    },
    {
      "cell_type": "code",
      "metadata": {
        "id": "Qvqt9uXgSIJc",
        "outputId": "0015446c-1d02-4e56-ebb3-347868392c8c",
        "colab": {
          "base_uri": "https://localhost:8080/"
        }
      },
      "source": [
        "(chunk[\"dropoff_datetime\"] - chunk[\"pickup_datetime\"]).dt.seconds"
      ],
      "execution_count": 34,
      "outputs": [
        {
          "output_type": "execute_result",
          "data": {
            "text/plain": [
              "0      438\n",
              "1      337\n",
              "2     1155\n",
              "3      864\n",
              "4      903\n",
              "      ... \n",
              "95    1111\n",
              "96     597\n",
              "97    1163\n",
              "98     224\n",
              "99     373\n",
              "Length: 100, dtype: int64"
            ]
          },
          "metadata": {
            "tags": []
          },
          "execution_count": 34
        }
      ]
    },
    {
      "cell_type": "code",
      "metadata": {
        "id": "f6VgConjNguK"
      },
      "source": [
        "def count_long_trips(df):\r\n",
        "    '''\r\n",
        "    Takes a dataframe as input and returns a data with \r\n",
        "    number of trips that are long trip duration and total number of trips made\r\n",
        "    '''\r\n",
        "    df['duration'] = (df['dropoff_datetime'] - df['pickup_datetime']).dt.seconds\r\n",
        "    is_long_trip = df.duration>1200\r\n",
        "    result_dict = {\"n_long_trips\":[sum(is_long_trip)], \"n_total_trips\":[len(df)]}\r\n",
        "    return pd.DataFrame(result_dict)"
      ],
      "execution_count": 44,
      "outputs": []
    },
    {
      "cell_type": "code",
      "metadata": {
        "id": "n3JXmNAqo1Vk",
        "outputId": "d1bdfaa9-6a33-4658-a760-cfb38eb9bfb7",
        "colab": {
          "base_uri": "https://localhost:8080/"
        }
      },
      "source": [
        "filenames = []\r\n",
        "for i in range(1,13):\r\n",
        "    month = \"0\"+str(i) if i < 10 else str(i)\r\n",
        "    filenames.append(\"yellow_tripdata_2013-{:s}.csv\".format(month))\r\n",
        "\r\n",
        "filenames"
      ],
      "execution_count": 45,
      "outputs": [
        {
          "output_type": "execute_result",
          "data": {
            "text/plain": [
              "['yellow_tripdata_2013-01.csv',\n",
              " 'yellow_tripdata_2013-02.csv',\n",
              " 'yellow_tripdata_2013-03.csv',\n",
              " 'yellow_tripdata_2013-04.csv',\n",
              " 'yellow_tripdata_2013-05.csv',\n",
              " 'yellow_tripdata_2013-06.csv',\n",
              " 'yellow_tripdata_2013-07.csv',\n",
              " 'yellow_tripdata_2013-08.csv',\n",
              " 'yellow_tripdata_2013-09.csv',\n",
              " 'yellow_tripdata_2013-10.csv',\n",
              " 'yellow_tripdata_2013-11.csv',\n",
              " 'yellow_tripdata_2013-12.csv']"
            ]
          },
          "metadata": {
            "tags": []
          },
          "execution_count": 45
        }
      ]
    },
    {
      "cell_type": "code",
      "metadata": {
        "id": "7CegCy1CL47j",
        "outputId": "591740aa-dde4-44b6-d4ce-9192f87b6e02",
        "colab": {
          "base_uri": "https://localhost:8080/"
        }
      },
      "source": [
        "%%time\r\n",
        "dataframes = (pd.read_csv(fname, parse_dates=[1,2]) for fname in filenames)  ## generator\r\n",
        "totals = (count_long_trips(df) for df in dataframes) ## generator for calculating the long trips\r\n",
        "annual_totals = sum(totals)"
      ],
      "execution_count": 46,
      "outputs": [
        {
          "output_type": "stream",
          "text": [
            "/usr/local/lib/python3.7/dist-packages/IPython/core/magics/execution.py:1193: DtypeWarning: Columns (8) have mixed types.Specify dtype option on import or set low_memory=False.\n",
            "  exec(code, glob, local_ns)\n",
            "/usr/local/lib/python3.7/dist-packages/IPython/core/magics/execution.py:1193: DtypeWarning: Columns (8) have mixed types.Specify dtype option on import or set low_memory=False.\n",
            "  exec(code, glob, local_ns)\n",
            "/usr/local/lib/python3.7/dist-packages/IPython/core/magics/execution.py:1193: DtypeWarning: Columns (8) have mixed types.Specify dtype option on import or set low_memory=False.\n",
            "  exec(code, glob, local_ns)\n",
            "/usr/local/lib/python3.7/dist-packages/IPython/core/magics/execution.py:1193: DtypeWarning: Columns (8) have mixed types.Specify dtype option on import or set low_memory=False.\n",
            "  exec(code, glob, local_ns)\n",
            "/usr/local/lib/python3.7/dist-packages/IPython/core/magics/execution.py:1193: DtypeWarning: Columns (8) have mixed types.Specify dtype option on import or set low_memory=False.\n",
            "  exec(code, glob, local_ns)\n",
            "/usr/local/lib/python3.7/dist-packages/IPython/core/magics/execution.py:1193: DtypeWarning: Columns (8) have mixed types.Specify dtype option on import or set low_memory=False.\n",
            "  exec(code, glob, local_ns)\n",
            "/usr/local/lib/python3.7/dist-packages/IPython/core/magics/execution.py:1193: DtypeWarning: Columns (8) have mixed types.Specify dtype option on import or set low_memory=False.\n",
            "  exec(code, glob, local_ns)\n",
            "/usr/local/lib/python3.7/dist-packages/IPython/core/magics/execution.py:1193: DtypeWarning: Columns (8) have mixed types.Specify dtype option on import or set low_memory=False.\n",
            "  exec(code, glob, local_ns)\n",
            "/usr/local/lib/python3.7/dist-packages/IPython/core/magics/execution.py:1193: DtypeWarning: Columns (8) have mixed types.Specify dtype option on import or set low_memory=False.\n",
            "  exec(code, glob, local_ns)\n",
            "/usr/local/lib/python3.7/dist-packages/IPython/core/magics/execution.py:1193: DtypeWarning: Columns (8) have mixed types.Specify dtype option on import or set low_memory=False.\n",
            "  exec(code, glob, local_ns)\n"
          ],
          "name": "stderr"
        },
        {
          "output_type": "stream",
          "text": [
            "CPU times: user 11min 11s, sys: 58.3 s, total: 12min 9s\n",
            "Wall time: 13min 49s\n"
          ],
          "name": "stdout"
        }
      ]
    },
    {
      "cell_type": "code",
      "metadata": {
        "id": "MACiytaJsP-P",
        "outputId": "2cfd9082-4787-4245-a8ad-7e92e19bde69",
        "colab": {
          "base_uri": "https://localhost:8080/",
          "height": 78
        }
      },
      "source": [
        "annual_totals"
      ],
      "execution_count": 47,
      "outputs": [
        {
          "output_type": "execute_result",
          "data": {
            "text/html": [
              "<div>\n",
              "<style scoped>\n",
              "    .dataframe tbody tr th:only-of-type {\n",
              "        vertical-align: middle;\n",
              "    }\n",
              "\n",
              "    .dataframe tbody tr th {\n",
              "        vertical-align: top;\n",
              "    }\n",
              "\n",
              "    .dataframe thead th {\n",
              "        text-align: right;\n",
              "    }\n",
              "</style>\n",
              "<table border=\"1\" class=\"dataframe\">\n",
              "  <thead>\n",
              "    <tr style=\"text-align: right;\">\n",
              "      <th></th>\n",
              "      <th>n_long_trips</th>\n",
              "      <th>n_total_trips</th>\n",
              "    </tr>\n",
              "  </thead>\n",
              "  <tbody>\n",
              "    <tr>\n",
              "      <th>0</th>\n",
              "      <td>26645689</td>\n",
              "      <td>173179759</td>\n",
              "    </tr>\n",
              "  </tbody>\n",
              "</table>\n",
              "</div>"
            ],
            "text/plain": [
              "   n_long_trips  n_total_trips\n",
              "0      26645689      173179759"
            ]
          },
          "metadata": {
            "tags": []
          },
          "execution_count": 47
        }
      ]
    },
    {
      "cell_type": "code",
      "metadata": {
        "id": "H7nTik6hsWiT",
        "outputId": "af2104d5-74cf-4281-ad04-d5f1b50fb467",
        "colab": {
          "base_uri": "https://localhost:8080/"
        }
      },
      "source": [
        "annual_totals[\"n_long_trips\"]/annual_totals[\"n_total_trips\"]"
      ],
      "execution_count": 48,
      "outputs": [
        {
          "output_type": "execute_result",
          "data": {
            "text/plain": [
              "0    0.153861\n",
              "dtype: float64"
            ]
          },
          "metadata": {
            "tags": []
          },
          "execution_count": 48
        }
      ]
    },
    {
      "cell_type": "markdown",
      "metadata": {
        "id": "_e0E0Do8sgKO"
      },
      "source": [
        "Roughly 15% of the trips in the year 2013 were long trips. "
      ]
    },
    {
      "cell_type": "code",
      "metadata": {
        "id": "33TLsFw7s9l6"
      },
      "source": [
        ""
      ],
      "execution_count": null,
      "outputs": []
    }
  ]
}