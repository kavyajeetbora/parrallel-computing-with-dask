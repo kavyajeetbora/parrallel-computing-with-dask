{
  "nbformat": 4,
  "nbformat_minor": 0,
  "metadata": {
    "colab": {
      "name": "generators.ipynb",
      "provenance": [],
      "authorship_tag": "ABX9TyPdohQcf8yvtzupb/6QCllg",
      "include_colab_link": true
    },
    "kernelspec": {
      "name": "python3",
      "display_name": "Python 3"
    }
  },
  "cells": [
    {
      "cell_type": "markdown",
      "metadata": {
        "id": "view-in-github",
        "colab_type": "text"
      },
      "source": [
        "<a href=\"https://colab.research.google.com/github/kavyajeetbora/parrallel-computing-with-dask-datacamp/blob/main/part-1-generators%20and%20dask.ipynb\" target=\"_parent\"><img src=\"https://colab.research.google.com/assets/colab-badge.svg\" alt=\"Open In Colab\"/></a>"
      ]
    },
    {
      "cell_type": "code",
      "metadata": {
        "id": "mMrxyDXjA2_N"
      },
      "source": [
        "import pandas as pd\r\n",
        "import numpy as np\r\n",
        "from google.colab import files\r\n",
        "from tqdm import tqdm\r\n",
        "import requests \r\n",
        "\r\n",
        "from dask import delayed"
      ],
      "execution_count": 1,
      "outputs": []
    },
    {
      "cell_type": "markdown",
      "metadata": {
        "id": "loafMc_5PrJ3"
      },
      "source": [
        "## Generators \r\n",
        "\r\n",
        "Generator expressions resemble comprehensions, but use lazy evaluation. This means **elements are generated one-at-a-time**, so they are never in memory simultaneously This is extremely helpful when operating at the limits of available memory. "
      ]
    },
    {
      "cell_type": "code",
      "metadata": {
        "colab": {
          "base_uri": "https://localhost:8080/",
          "height": 35
        },
        "id": "jGcPmtJLA8Jq",
        "outputId": "3bb27e46-017c-4fbe-c124-b38f407dfc89"
      },
      "source": [
        "year = 2013\r\n",
        "month = 1\r\n",
        "month = \"0\"+str(month) if month < 10 else month\r\n",
        "file_location = \"https://s3.amazonaws.com/nyc-tlc/trip+data/yellow_tripdata_{:d}-{:s}.csv\".format(year, month)\r\n",
        "file_location"
      ],
      "execution_count": 3,
      "outputs": [
        {
          "output_type": "execute_result",
          "data": {
            "application/vnd.google.colaboratory.intrinsic+json": {
              "type": "string"
            },
            "text/plain": [
              "'https://s3.amazonaws.com/nyc-tlc/trip+data/yellow_tripdata_2013-01.csv'"
            ]
          },
          "metadata": {
            "tags": []
          },
          "execution_count": 3
        }
      ]
    },
    {
      "cell_type": "code",
      "metadata": {
        "colab": {
          "base_uri": "https://localhost:8080/"
        },
        "id": "Q7PkUWU9FMEq",
        "outputId": "4f4319c1-fe06-45d9-e0bf-94c0bca30209"
      },
      "source": [
        "%%time\r\n",
        "for i in tqdm(range(1,13),unit=\"csv_file\"):\r\n",
        "    month = \"0\"+str(i) if i < 10 else str(i)\r\n",
        "    file_location = \"https://s3.amazonaws.com/nyc-tlc/trip+data/yellow_tripdata_{:d}-{:s}.csv\".format(2013, month)\r\n",
        "    # get the response from the link\r\n",
        "    req = requests.get(file_location)\r\n",
        "\r\n",
        "    output_file_name = \"yellow_tripdata_{:d}-{:s}.csv\".format(2013, month)\r\n",
        "    # save the reponse content as csv file\r\n",
        "    with open(output_file_name, \"wb\") as csv_file:\r\n",
        "        csv_file.write(req.content)\r\n",
        "    del req # deleting the request once the csv file is downloaded, to clear up the RAM"
      ],
      "execution_count": 3,
      "outputs": [
        {
          "output_type": "stream",
          "text": [
            "100%|██████████| 12/12 [14:26<00:00, 72.21s/csv_file]"
          ],
          "name": "stderr"
        },
        {
          "output_type": "stream",
          "text": [
            "CPU times: user 1min 42s, sys: 1min 19s, total: 3min 2s\n",
            "Wall time: 14min 26s\n"
          ],
          "name": "stdout"
        },
        {
          "output_type": "stream",
          "text": [
            "\n"
          ],
          "name": "stderr"
        }
      ]
    },
    {
      "cell_type": "markdown",
      "metadata": {
        "id": "cOdY7QvhQYkd"
      },
      "source": [
        "Since the data is very huge and cannot be loaded in the memory once, we will use generators which is based on lazy computing, the calculation will be done one at a time> By this all the data will not be loaded simaltaneously. \r\n",
        "\r\n",
        "\r\n",
        "Here the task is to compute the long trips which are more than 1200 seconds. But beofre that we need to calculate the duration and convert it to seconds\r\n",
        "\r\n",
        "And aslo first we need to see the column names in a dataframe, for that we will load a csv file in chuck since the data volume is huge:"
      ]
    },
    {
      "cell_type": "code",
      "metadata": {
        "colab": {
          "base_uri": "https://localhost:8080/"
        },
        "id": "CU5OYPgsRYEq",
        "outputId": "a6f4ad26-a4a7-45b9-a6c0-969b2391ec4a"
      },
      "source": [
        "for chunk in pd.read_csv(\"yellow_tripdata_2013-11.csv\", chunksize=100, parse_dates=[1,2]):\r\n",
        "    print(chunk.head())\r\n",
        "    print(chunk.info())\r\n",
        "    print(chunk.columns)\r\n",
        "    break"
      ],
      "execution_count": 2,
      "outputs": [
        {
          "output_type": "stream",
          "text": [
            "  vendor_id     pickup_datetime  ... tolls_amount  total_amount\n",
            "0       CMT 2013-11-25 15:53:33  ...          0.0           8.5\n",
            "1       CMT 2013-11-25 15:24:41  ...          0.0           9.0\n",
            "2       CMT 2013-11-25 09:43:42  ...          0.0          17.5\n",
            "3       CMT 2013-11-25 06:49:58  ...          0.0          17.4\n",
            "4       CMT 2013-11-25 10:02:12  ...          0.0          14.5\n",
            "\n",
            "[5 rows x 18 columns]\n",
            "<class 'pandas.core.frame.DataFrame'>\n",
            "RangeIndex: 100 entries, 0 to 99\n",
            "Data columns (total 18 columns):\n",
            " #   Column              Non-Null Count  Dtype         \n",
            "---  ------              --------------  -----         \n",
            " 0   vendor_id           100 non-null    object        \n",
            " 1   pickup_datetime     100 non-null    datetime64[ns]\n",
            " 2   dropoff_datetime    100 non-null    datetime64[ns]\n",
            " 3   passenger_count     100 non-null    int64         \n",
            " 4   trip_distance       100 non-null    float64       \n",
            " 5   pickup_longitude    100 non-null    float64       \n",
            " 6   pickup_latitude     100 non-null    float64       \n",
            " 7   rate_code           100 non-null    int64         \n",
            " 8   store_and_fwd_flag  100 non-null    object        \n",
            " 9   dropoff_longitude   100 non-null    float64       \n",
            " 10  dropoff_latitude    100 non-null    float64       \n",
            " 11  payment_type        100 non-null    object        \n",
            " 12  fare_amount         100 non-null    float64       \n",
            " 13  surcharge           100 non-null    float64       \n",
            " 14  mta_tax             100 non-null    float64       \n",
            " 15  tip_amount          100 non-null    float64       \n",
            " 16  tolls_amount        100 non-null    float64       \n",
            " 17  total_amount        100 non-null    float64       \n",
            "dtypes: datetime64[ns](2), float64(11), int64(2), object(3)\n",
            "memory usage: 14.2+ KB\n",
            "None\n",
            "Index(['vendor_id', 'pickup_datetime', 'dropoff_datetime', 'passenger_count',\n",
            "       'trip_distance', 'pickup_longitude', 'pickup_latitude', 'rate_code',\n",
            "       'store_and_fwd_flag', 'dropoff_longitude', 'dropoff_latitude',\n",
            "       'payment_type', 'fare_amount', 'surcharge', 'mta_tax', 'tip_amount',\n",
            "       'tolls_amount', 'total_amount'],\n",
            "      dtype='object')\n"
          ],
          "name": "stdout"
        }
      ]
    },
    {
      "cell_type": "code",
      "metadata": {
        "id": "mgbO3V_G8Svh",
        "outputId": "8c2880f4-2e06-4597-84c2-4ccb38c3489e",
        "colab": {
          "base_uri": "https://localhost:8080/"
        }
      },
      "source": [
        "d = {\"passenger_count\":int,         \r\n",
        "\"trip_distance\":float,       \r\n",
        "\"pickup_longitude\":float,       \r\n",
        "\"pickup_latitude\":float,       \r\n",
        "\"rate_code\":int,         \r\n",
        "\"store_and_fwd_flag\":object,        \r\n",
        "\"dropoff_longitude\":float,       \r\n",
        "\"dropoff_latitude\":float,       \r\n",
        "\"payment_type\":object,       \r\n",
        "\"fare_amount\":float,      \r\n",
        "\"surcharge\":float,       \r\n",
        "\"mta_tax\":float,       \r\n",
        "\"tip_amount\":float,       \r\n",
        "\"tolls_amount\":float,       \r\n",
        "\"total_amount\":float}\r\n",
        "\r\n",
        "d"
      ],
      "execution_count": 3,
      "outputs": [
        {
          "output_type": "execute_result",
          "data": {
            "text/plain": [
              "{'dropoff_latitude': float,\n",
              " 'dropoff_longitude': float,\n",
              " 'fare_amount': float,\n",
              " 'mta_tax': float,\n",
              " 'passenger_count': int,\n",
              " 'payment_type': object,\n",
              " 'pickup_latitude': float,\n",
              " 'pickup_longitude': float,\n",
              " 'rate_code': int,\n",
              " 'store_and_fwd_flag': object,\n",
              " 'surcharge': float,\n",
              " 'tip_amount': float,\n",
              " 'tolls_amount': float,\n",
              " 'total_amount': float,\n",
              " 'trip_distance': float}"
            ]
          },
          "metadata": {
            "tags": []
          },
          "execution_count": 3
        }
      ]
    },
    {
      "cell_type": "markdown",
      "metadata": {
        "id": "xIx36rECRy07"
      },
      "source": [
        "Here the difference between pick_datetime and dropoff_datetime will yield the trip duration. That is to be converted to seconds:"
      ]
    },
    {
      "cell_type": "code",
      "metadata": {
        "colab": {
          "base_uri": "https://localhost:8080/"
        },
        "id": "Qvqt9uXgSIJc",
        "outputId": "75fa053b-dd94-4cda-c0a9-2273edd9387e"
      },
      "source": [
        "(chunk[\"dropoff_datetime\"] - chunk[\"pickup_datetime\"]).dt.seconds"
      ],
      "execution_count": 5,
      "outputs": [
        {
          "output_type": "execute_result",
          "data": {
            "text/plain": [
              "0      438\n",
              "1      337\n",
              "2     1155\n",
              "3      864\n",
              "4      903\n",
              "      ... \n",
              "95    1111\n",
              "96     597\n",
              "97    1163\n",
              "98     224\n",
              "99     373\n",
              "Length: 100, dtype: int64"
            ]
          },
          "metadata": {
            "tags": []
          },
          "execution_count": 5
        }
      ]
    },
    {
      "cell_type": "code",
      "metadata": {
        "id": "f6VgConjNguK"
      },
      "source": [
        "def count_long_trips(df):\r\n",
        "    '''\r\n",
        "    Takes a dataframe as input and returns a data with \r\n",
        "    number of trips that are long trip duration and total number of trips made\r\n",
        "    '''\r\n",
        "    df['duration'] = (df['dropoff_datetime'] - df['pickup_datetime']).dt.seconds\r\n",
        "    is_long_trip = df.duration>1200\r\n",
        "    result_dict = {\"n_long_trips\":[sum(is_long_trip)], \"n_total_trips\":[len(df)]}\r\n",
        "    return pd.DataFrame(result_dict)"
      ],
      "execution_count": 4,
      "outputs": []
    },
    {
      "cell_type": "code",
      "metadata": {
        "colab": {
          "base_uri": "https://localhost:8080/"
        },
        "id": "n3JXmNAqo1Vk",
        "outputId": "1e149e87-84ce-483f-d0f5-11227e162fc6"
      },
      "source": [
        "filenames = []\r\n",
        "for i in range(1,13):\r\n",
        "    month = \"0\"+str(i) if i < 10 else str(i)\r\n",
        "    filenames.append(\"yellow_tripdata_2013-{:s}.csv\".format(month))\r\n",
        "\r\n",
        "filenames"
      ],
      "execution_count": 4,
      "outputs": [
        {
          "output_type": "execute_result",
          "data": {
            "text/plain": [
              "['yellow_tripdata_2013-01.csv',\n",
              " 'yellow_tripdata_2013-02.csv',\n",
              " 'yellow_tripdata_2013-03.csv',\n",
              " 'yellow_tripdata_2013-04.csv',\n",
              " 'yellow_tripdata_2013-05.csv',\n",
              " 'yellow_tripdata_2013-06.csv',\n",
              " 'yellow_tripdata_2013-07.csv',\n",
              " 'yellow_tripdata_2013-08.csv',\n",
              " 'yellow_tripdata_2013-09.csv',\n",
              " 'yellow_tripdata_2013-10.csv',\n",
              " 'yellow_tripdata_2013-11.csv',\n",
              " 'yellow_tripdata_2013-12.csv']"
            ]
          },
          "metadata": {
            "tags": []
          },
          "execution_count": 4
        }
      ]
    },
    {
      "cell_type": "code",
      "metadata": {
        "colab": {
          "base_uri": "https://localhost:8080/"
        },
        "id": "7CegCy1CL47j",
        "outputId": "591740aa-dde4-44b6-d4ce-9192f87b6e02"
      },
      "source": [
        "%%time\r\n",
        "dataframes = (pd.read_csv(fname, parse_dates=[1,2], lineterminator='\\n') for fname in filenames)  ## generator\r\n",
        "totals = (count_long_trips(df) for df in dataframes) ## generator for calculating the long trips\r\n",
        "annual_totals = sum(totals)"
      ],
      "execution_count": 46,
      "outputs": [
        {
          "output_type": "stream",
          "text": [
            "/usr/local/lib/python3.7/dist-packages/IPython/core/magics/execution.py:1193: DtypeWarning: Columns (8) have mixed types.Specify dtype option on import or set low_memory=False.\n",
            "  exec(code, glob, local_ns)\n",
            "/usr/local/lib/python3.7/dist-packages/IPython/core/magics/execution.py:1193: DtypeWarning: Columns (8) have mixed types.Specify dtype option on import or set low_memory=False.\n",
            "  exec(code, glob, local_ns)\n",
            "/usr/local/lib/python3.7/dist-packages/IPython/core/magics/execution.py:1193: DtypeWarning: Columns (8) have mixed types.Specify dtype option on import or set low_memory=False.\n",
            "  exec(code, glob, local_ns)\n",
            "/usr/local/lib/python3.7/dist-packages/IPython/core/magics/execution.py:1193: DtypeWarning: Columns (8) have mixed types.Specify dtype option on import or set low_memory=False.\n",
            "  exec(code, glob, local_ns)\n",
            "/usr/local/lib/python3.7/dist-packages/IPython/core/magics/execution.py:1193: DtypeWarning: Columns (8) have mixed types.Specify dtype option on import or set low_memory=False.\n",
            "  exec(code, glob, local_ns)\n",
            "/usr/local/lib/python3.7/dist-packages/IPython/core/magics/execution.py:1193: DtypeWarning: Columns (8) have mixed types.Specify dtype option on import or set low_memory=False.\n",
            "  exec(code, glob, local_ns)\n",
            "/usr/local/lib/python3.7/dist-packages/IPython/core/magics/execution.py:1193: DtypeWarning: Columns (8) have mixed types.Specify dtype option on import or set low_memory=False.\n",
            "  exec(code, glob, local_ns)\n",
            "/usr/local/lib/python3.7/dist-packages/IPython/core/magics/execution.py:1193: DtypeWarning: Columns (8) have mixed types.Specify dtype option on import or set low_memory=False.\n",
            "  exec(code, glob, local_ns)\n",
            "/usr/local/lib/python3.7/dist-packages/IPython/core/magics/execution.py:1193: DtypeWarning: Columns (8) have mixed types.Specify dtype option on import or set low_memory=False.\n",
            "  exec(code, glob, local_ns)\n",
            "/usr/local/lib/python3.7/dist-packages/IPython/core/magics/execution.py:1193: DtypeWarning: Columns (8) have mixed types.Specify dtype option on import or set low_memory=False.\n",
            "  exec(code, glob, local_ns)\n"
          ],
          "name": "stderr"
        },
        {
          "output_type": "stream",
          "text": [
            "CPU times: user 11min 11s, sys: 58.3 s, total: 12min 9s\n",
            "Wall time: 13min 49s\n"
          ],
          "name": "stdout"
        }
      ]
    },
    {
      "cell_type": "code",
      "metadata": {
        "colab": {
          "base_uri": "https://localhost:8080/"
        },
        "id": "H7nTik6hsWiT",
        "outputId": "af2104d5-74cf-4281-ad04-d5f1b50fb467"
      },
      "source": [
        "annual_totals[\"n_long_trips\"]/annual_totals[\"n_total_trips\"]"
      ],
      "execution_count": 48,
      "outputs": [
        {
          "output_type": "execute_result",
          "data": {
            "text/plain": [
              "0    0.153861\n",
              "dtype: float64"
            ]
          },
          "metadata": {
            "tags": []
          },
          "execution_count": 48
        }
      ]
    },
    {
      "cell_type": "markdown",
      "metadata": {
        "id": "_e0E0Do8sgKO"
      },
      "source": [
        "Roughly 15% of the trips in the year 2013 were long trips. "
      ]
    },
    {
      "cell_type": "markdown",
      "metadata": {
        "id": "8XXEMpvKuKXZ"
      },
      "source": [
        "## Dask\r\n",
        "\r\n",
        "Using dask, we will do the run the same pipeline. "
      ]
    },
    {
      "cell_type": "code",
      "metadata": {
        "id": "j0umME2evTNM"
      },
      "source": [
        "@delayed\r\n",
        "def count_long_trips(df):\r\n",
        "    '''\r\n",
        "    Takes a dataframe as input and returns a data with \r\n",
        "    number of trips that are long trip duration and total number of trips made\r\n",
        "    '''\r\n",
        "    df['duration'] = (df['dropoff_datetime'] - df['pickup_datetime']).dt.seconds\r\n",
        "    is_long_trip = df.duration>1200\r\n",
        "    result_dict = {\"n_long_trips\":[sum(is_long_trip)], \"n_total_trips\":[len(df)]}\r\n",
        "    return pd.DataFrame(result_dict)\r\n",
        "\r\n",
        "@delayed\r\n",
        "def read_csv_file(file_location):\r\n",
        "    return pd.read_csv(file_location, parse_dates=[1,2], dtype=d)"
      ],
      "execution_count": 5,
      "outputs": []
    },
    {
      "cell_type": "code",
      "metadata": {
        "id": "J_TKDis2veJq",
        "outputId": "a85d825f-6fad-4549-fdc1-a39f3e8c72fd",
        "colab": {
          "base_uri": "https://localhost:8080/"
        }
      },
      "source": [
        "%%time\r\n",
        "totals = [count_long_trips(read_csv_file(fname)) for fname in filenames]\r\n",
        "annual_totals = sum(totals)"
      ],
      "execution_count": 6,
      "outputs": [
        {
          "output_type": "stream",
          "text": [
            "CPU times: user 2.73 ms, sys: 0 ns, total: 2.73 ms\n",
            "Wall time: 2.73 ms\n"
          ],
          "name": "stdout"
        }
      ]
    },
    {
      "cell_type": "code",
      "metadata": {
        "id": "fg6B3h6G-z8T",
        "outputId": "e86c22e1-9a93-4614-c4b8-3e46f73b3e44",
        "colab": {
          "base_uri": "https://localhost:8080/"
        }
      },
      "source": [
        "totals"
      ],
      "execution_count": 8,
      "outputs": [
        {
          "output_type": "execute_result",
          "data": {
            "text/plain": [
              "[Delayed('count_long_trips-03e16efe-17a9-4fa6-bf0b-0ae7a3dbfdb6'),\n",
              " Delayed('count_long_trips-fff4b25e-7da5-4007-83a4-9ba4b7adb1c3'),\n",
              " Delayed('count_long_trips-ed9b45bf-c1b1-466c-aac0-e250dc94f35b'),\n",
              " Delayed('count_long_trips-2b3b70ab-1fbe-44c4-b164-313ce9f7596b'),\n",
              " Delayed('count_long_trips-cb2e7a94-a468-4270-b220-2037fc722ab1'),\n",
              " Delayed('count_long_trips-bbc0a6f5-cbe9-409b-87b6-d1bfe423dd3b'),\n",
              " Delayed('count_long_trips-a6d491b3-a639-430d-9f9b-54578815cded'),\n",
              " Delayed('count_long_trips-c1f30461-160a-4d85-8ffe-403bfb9ddb9c'),\n",
              " Delayed('count_long_trips-b36cdcba-1c4f-480f-a1e6-586c84088da1'),\n",
              " Delayed('count_long_trips-9362e1d1-3eac-4511-96ad-54a7af33e5e2'),\n",
              " Delayed('count_long_trips-004a0fb2-1233-4f1b-baa8-51dcf7181f7e'),\n",
              " Delayed('count_long_trips-6129aa4f-f30c-4d41-a400-b26ac84543e1')]"
            ]
          },
          "metadata": {
            "tags": []
          },
          "execution_count": 8
        }
      ]
    },
    {
      "cell_type": "code",
      "metadata": {
        "id": "t_Kc_5k_1LUJ",
        "outputId": "29904257-200e-4887-b4a7-ddcd55c30c49",
        "colab": {
          "base_uri": "https://localhost:8080/"
        }
      },
      "source": [
        "%%time\r\n",
        "result = annual_totals.compute()"
      ],
      "execution_count": 9,
      "outputs": [
        {
          "output_type": "stream",
          "text": [
            "CPU times: user 14min 5s, sys: 1min 12s, total: 15min 18s\n",
            "Wall time: 12min 53s\n"
          ],
          "name": "stdout"
        }
      ]
    },
    {
      "cell_type": "code",
      "metadata": {
        "id": "vwaI7do6B8_h",
        "outputId": "fa5c8fb7-952a-44d7-d9d1-1dab5edec597",
        "colab": {
          "base_uri": "https://localhost:8080/",
          "height": 78
        }
      },
      "source": [
        "result"
      ],
      "execution_count": 10,
      "outputs": [
        {
          "output_type": "execute_result",
          "data": {
            "text/html": [
              "<div>\n",
              "<style scoped>\n",
              "    .dataframe tbody tr th:only-of-type {\n",
              "        vertical-align: middle;\n",
              "    }\n",
              "\n",
              "    .dataframe tbody tr th {\n",
              "        vertical-align: top;\n",
              "    }\n",
              "\n",
              "    .dataframe thead th {\n",
              "        text-align: right;\n",
              "    }\n",
              "</style>\n",
              "<table border=\"1\" class=\"dataframe\">\n",
              "  <thead>\n",
              "    <tr style=\"text-align: right;\">\n",
              "      <th></th>\n",
              "      <th>n_long_trips</th>\n",
              "      <th>n_total_trips</th>\n",
              "    </tr>\n",
              "  </thead>\n",
              "  <tbody>\n",
              "    <tr>\n",
              "      <th>0</th>\n",
              "      <td>26645689</td>\n",
              "      <td>173179759</td>\n",
              "    </tr>\n",
              "  </tbody>\n",
              "</table>\n",
              "</div>"
            ],
            "text/plain": [
              "   n_long_trips  n_total_trips\n",
              "0      26645689      173179759"
            ]
          },
          "metadata": {
            "tags": []
          },
          "execution_count": 10
        }
      ]
    },
    {
      "cell_type": "code",
      "metadata": {
        "id": "csFXRcidB-iL",
        "outputId": "95c187bf-6bfd-410b-937e-9e37ce09bea7",
        "colab": {
          "base_uri": "https://localhost:8080/"
        }
      },
      "source": [
        "result[\"n_long_trips\"]/result[\"n_total_trips\"]"
      ],
      "execution_count": 11,
      "outputs": [
        {
          "output_type": "execute_result",
          "data": {
            "text/plain": [
              "0    0.153861\n",
              "dtype: float64"
            ]
          },
          "metadata": {
            "tags": []
          },
          "execution_count": 11
        }
      ]
    }
  ]
}